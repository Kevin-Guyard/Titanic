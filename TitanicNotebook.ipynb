{
 "cells": [
  {
   "cell_type": "markdown",
   "id": "f121ea5b-4b32-4f16-94c0-1b01263deb85",
   "metadata": {
    "jp-MarkdownHeadingCollapsed": true,
    "tags": []
   },
   "source": [
    "# 1. Load data"
   ]
  },
  {
   "cell_type": "code",
   "execution_count": 2,
   "id": "40c5b6f7-3010-4339-9193-b72a11fd8426",
   "metadata": {},
   "outputs": [],
   "source": [
    "import pandas as pd\n",
    "import numpy as np"
   ]
  },
  {
   "cell_type": "code",
   "execution_count": 3,
   "id": "95b2e060-a212-4367-9465-6b698939c53c",
   "metadata": {},
   "outputs": [],
   "source": [
    "df_passengers = pd.read_csv(\"./data/train.csv\")"
   ]
  },
  {
   "cell_type": "markdown",
   "id": "ea235bcd-1ef1-436f-a331-0467b33980b0",
   "metadata": {
    "tags": []
   },
   "source": [
    "# 2. Preprocessing & feature engineering"
   ]
  },
  {
   "cell_type": "code",
   "execution_count": 4,
   "id": "f97be342-a810-4c23-894a-e6d4d6194204",
   "metadata": {},
   "outputs": [],
   "source": [
    "import matplotlib.pyplot as plt\n",
    "import scipy\n",
    "from statsmodels.graphics.gofplots import qqplot"
   ]
  },
  {
   "cell_type": "code",
   "execution_count": 5,
   "id": "04a3d97d-bc36-4c32-9d3d-2755e94d8bbd",
   "metadata": {},
   "outputs": [],
   "source": [
    "def test_normality(data, bins):\n",
    "    \n",
    "    _, p_value_shapiro = scipy.stats.shapiro(data)\n",
    "    _, p_value_normaltest = scipy.stats.normaltest(data)\n",
    "    _, p_value_kstest = scipy.stats.kstest(data, 'norm')\n",
    "    result_anderson = scipy.stats.anderson(data)\n",
    "    \n",
    "    print(\"Shapiro: {}\".format(p_value_shapiro))\n",
    "    print(\"Normal test: {}\".format(p_value_normaltest))\n",
    "    print(\"Kstest: {}\".format(p_value_kstest))\n",
    "    print(\"Anderson: {}\".format(result_anderson))\n",
    "    \n",
    "    plt.hist(data, bins=bins)\n",
    "    qqplot(data, line='s')\n",
    "    plt.show()"
   ]
  },
  {
   "cell_type": "code",
   "execution_count": 6,
   "id": "17963276-c8e4-43c5-b9aa-9d0c67738c22",
   "metadata": {
    "tags": []
   },
   "outputs": [
    {
     "data": {
      "text/html": [
       "<div>\n",
       "<style scoped>\n",
       "    .dataframe tbody tr th:only-of-type {\n",
       "        vertical-align: middle;\n",
       "    }\n",
       "\n",
       "    .dataframe tbody tr th {\n",
       "        vertical-align: top;\n",
       "    }\n",
       "\n",
       "    .dataframe thead th {\n",
       "        text-align: right;\n",
       "    }\n",
       "</style>\n",
       "<table border=\"1\" class=\"dataframe\">\n",
       "  <thead>\n",
       "    <tr style=\"text-align: right;\">\n",
       "      <th></th>\n",
       "      <th>PassengerId</th>\n",
       "      <th>Survived</th>\n",
       "      <th>Pclass</th>\n",
       "      <th>Name</th>\n",
       "      <th>Sex</th>\n",
       "      <th>Age</th>\n",
       "      <th>SibSp</th>\n",
       "      <th>Parch</th>\n",
       "      <th>Ticket</th>\n",
       "      <th>Fare</th>\n",
       "      <th>Cabin</th>\n",
       "      <th>Embarked</th>\n",
       "    </tr>\n",
       "  </thead>\n",
       "  <tbody>\n",
       "    <tr>\n",
       "      <th>0</th>\n",
       "      <td>1</td>\n",
       "      <td>0</td>\n",
       "      <td>3</td>\n",
       "      <td>Braund, Mr. Owen Harris</td>\n",
       "      <td>male</td>\n",
       "      <td>22.0</td>\n",
       "      <td>1</td>\n",
       "      <td>0</td>\n",
       "      <td>A/5 21171</td>\n",
       "      <td>7.2500</td>\n",
       "      <td>NaN</td>\n",
       "      <td>S</td>\n",
       "    </tr>\n",
       "    <tr>\n",
       "      <th>1</th>\n",
       "      <td>2</td>\n",
       "      <td>1</td>\n",
       "      <td>1</td>\n",
       "      <td>Cumings, Mrs. John Bradley (Florence Briggs Th...</td>\n",
       "      <td>female</td>\n",
       "      <td>38.0</td>\n",
       "      <td>1</td>\n",
       "      <td>0</td>\n",
       "      <td>PC 17599</td>\n",
       "      <td>71.2833</td>\n",
       "      <td>C85</td>\n",
       "      <td>C</td>\n",
       "    </tr>\n",
       "    <tr>\n",
       "      <th>2</th>\n",
       "      <td>3</td>\n",
       "      <td>1</td>\n",
       "      <td>3</td>\n",
       "      <td>Heikkinen, Miss. Laina</td>\n",
       "      <td>female</td>\n",
       "      <td>26.0</td>\n",
       "      <td>0</td>\n",
       "      <td>0</td>\n",
       "      <td>STON/O2. 3101282</td>\n",
       "      <td>7.9250</td>\n",
       "      <td>NaN</td>\n",
       "      <td>S</td>\n",
       "    </tr>\n",
       "    <tr>\n",
       "      <th>3</th>\n",
       "      <td>4</td>\n",
       "      <td>1</td>\n",
       "      <td>1</td>\n",
       "      <td>Futrelle, Mrs. Jacques Heath (Lily May Peel)</td>\n",
       "      <td>female</td>\n",
       "      <td>35.0</td>\n",
       "      <td>1</td>\n",
       "      <td>0</td>\n",
       "      <td>113803</td>\n",
       "      <td>53.1000</td>\n",
       "      <td>C123</td>\n",
       "      <td>S</td>\n",
       "    </tr>\n",
       "  </tbody>\n",
       "</table>\n",
       "</div>"
      ],
      "text/plain": [
       "   PassengerId  Survived  Pclass  \\\n",
       "0            1         0       3   \n",
       "1            2         1       1   \n",
       "2            3         1       3   \n",
       "3            4         1       1   \n",
       "\n",
       "                                                Name     Sex   Age  SibSp  \\\n",
       "0                            Braund, Mr. Owen Harris    male  22.0      1   \n",
       "1  Cumings, Mrs. John Bradley (Florence Briggs Th...  female  38.0      1   \n",
       "2                             Heikkinen, Miss. Laina  female  26.0      0   \n",
       "3       Futrelle, Mrs. Jacques Heath (Lily May Peel)  female  35.0      1   \n",
       "\n",
       "   Parch            Ticket     Fare Cabin Embarked  \n",
       "0      0         A/5 21171   7.2500   NaN        S  \n",
       "1      0          PC 17599  71.2833   C85        C  \n",
       "2      0  STON/O2. 3101282   7.9250   NaN        S  \n",
       "3      0            113803  53.1000  C123        S  "
      ]
     },
     "execution_count": 6,
     "metadata": {},
     "output_type": "execute_result"
    }
   ],
   "source": [
    "df_passengers.head(4)"
   ]
  },
  {
   "cell_type": "code",
   "execution_count": 7,
   "id": "5e65d01f-46de-4e0d-b3d9-0db9a6131fe4",
   "metadata": {},
   "outputs": [
    {
     "name": "stdout",
     "output_type": "stream",
     "text": [
      "There is 891 rows and 12 columns in the dataframe\n"
     ]
    }
   ],
   "source": [
    "print(\"There is {} rows and {} columns in the dataframe\".format(df_passengers.shape[0], df_passengers.shape[1]))"
   ]
  },
  {
   "cell_type": "markdown",
   "id": "b2abdf3c-9de2-47c1-a7f4-94819760a820",
   "metadata": {
    "jp-MarkdownHeadingCollapsed": true,
    "tags": []
   },
   "source": [
    "## 2.1. Passenger id"
   ]
  },
  {
   "cell_type": "markdown",
   "id": "b2fb0794-6e65-4607-91d4-52d6635bdbc7",
   "metadata": {},
   "source": [
    "Passenger id is nothing more than the id in the dataframe, it does not bring any information, we can drop it"
   ]
  },
  {
   "cell_type": "code",
   "execution_count": 8,
   "id": "58e7481e-7e73-4a59-9d68-389c6215fa86",
   "metadata": {},
   "outputs": [],
   "source": [
    "df_passengers.drop(labels=[\"PassengerId\"], axis=1, inplace=True)"
   ]
  },
  {
   "cell_type": "markdown",
   "id": "223ea3e6-cc2c-4c2b-8a93-f86dd0793761",
   "metadata": {
    "jp-MarkdownHeadingCollapsed": true,
    "tags": []
   },
   "source": [
    "## 2.2. P class"
   ]
  },
  {
   "cell_type": "markdown",
   "id": "09ee08a2-2449-4423-947c-3fddf16fd2e3",
   "metadata": {},
   "source": [
    "P class is the ticket class, which can be see as a proxy for socio-economic status"
   ]
  },
  {
   "cell_type": "code",
   "execution_count": 9,
   "id": "08aa66d5-9ecc-4a46-ba1f-21af06a8418f",
   "metadata": {},
   "outputs": [
    {
     "data": {
      "text/plain": [
       "array([3, 1, 2], dtype=int64)"
      ]
     },
     "execution_count": 9,
     "metadata": {},
     "output_type": "execute_result"
    }
   ],
   "source": [
    "df_passengers.Pclass.unique()"
   ]
  },
  {
   "cell_type": "markdown",
   "id": "d39ea049-08d9-4c76-ae20-e584674e1635",
   "metadata": {},
   "source": [
    "There is 3 differents categories, let get dummies from"
   ]
  },
  {
   "cell_type": "code",
   "execution_count": 10,
   "id": "4967f8c4-16d7-4217-b6c6-bee0d89d4acd",
   "metadata": {},
   "outputs": [],
   "source": [
    "df_passengers = pd.get_dummies(data=df_passengers, columns=[\"Pclass\"])"
   ]
  },
  {
   "cell_type": "markdown",
   "id": "61cbe956-7b1a-4c25-bd40-b502e2fc2c47",
   "metadata": {
    "jp-MarkdownHeadingCollapsed": true,
    "tags": []
   },
   "source": [
    "## 2.3. Name"
   ]
  },
  {
   "cell_type": "markdown",
   "id": "87251bc6-ad4a-4bc8-9898-2a76e9ca4a75",
   "metadata": {},
   "source": [
    "For the moment, we will drop Name and see after if NLP can help us to extract another features"
   ]
  },
  {
   "cell_type": "code",
   "execution_count": 11,
   "id": "4ccbbc53-b05b-467c-ae7e-2b60b90ba19f",
   "metadata": {},
   "outputs": [],
   "source": [
    "df_passengers.drop(labels=[\"Name\"], axis=1, inplace=True)"
   ]
  },
  {
   "cell_type": "markdown",
   "id": "5d2552f4-5fe0-4256-aa16-7bbdc14d7cb9",
   "metadata": {
    "jp-MarkdownHeadingCollapsed": true,
    "tags": []
   },
   "source": [
    "## 2.4. Sex"
   ]
  },
  {
   "cell_type": "code",
   "execution_count": 12,
   "id": "9a0eadaa-b268-4563-b737-d91abc448109",
   "metadata": {},
   "outputs": [
    {
     "data": {
      "text/plain": [
       "array(['male', 'female'], dtype=object)"
      ]
     },
     "execution_count": 12,
     "metadata": {},
     "output_type": "execute_result"
    }
   ],
   "source": [
    "df_passengers.Sex.unique()"
   ]
  },
  {
   "cell_type": "markdown",
   "id": "123b70e8-d71a-44a8-878f-62850f271d2d",
   "metadata": {},
   "source": [
    "There is 2 differents categories, let get dummies from"
   ]
  },
  {
   "cell_type": "code",
   "execution_count": 13,
   "id": "947223f3-a431-486f-a3d6-e646c76713d2",
   "metadata": {},
   "outputs": [],
   "source": [
    "df_passengers = pd.get_dummies(data=df_passengers, columns=[\"Sex\"], drop_first=True)"
   ]
  },
  {
   "cell_type": "markdown",
   "id": "2e0f1b85-a17e-4824-a980-e798dfbd502a",
   "metadata": {
    "jp-MarkdownHeadingCollapsed": true,
    "tags": []
   },
   "source": [
    "## 2.5. Age"
   ]
  },
  {
   "cell_type": "markdown",
   "id": "51101433-caed-410c-a8c6-8c5aa0250da0",
   "metadata": {},
   "source": [
    "Age is integer based. For children less than one years old, Age is fractionnal. If the Age is estimated, Age is in the format xx.5"
   ]
  },
  {
   "cell_type": "code",
   "execution_count": 14,
   "id": "ed339a78-1ba5-4484-bf24-01e62504dd4b",
   "metadata": {},
   "outputs": [
    {
     "data": {
      "text/plain": [
       "array([22.  , 38.  , 26.  , 35.  ,   nan, 54.  ,  2.  , 27.  , 14.  ,\n",
       "        4.  , 58.  , 20.  , 39.  , 55.  , 31.  , 34.  , 15.  , 28.  ,\n",
       "        8.  , 19.  , 40.  , 66.  , 42.  , 21.  , 18.  ,  3.  ,  7.  ,\n",
       "       49.  , 29.  , 65.  , 28.5 ,  5.  , 11.  , 45.  , 17.  , 32.  ,\n",
       "       16.  , 25.  ,  0.83, 30.  , 33.  , 23.  , 24.  , 46.  , 59.  ,\n",
       "       71.  , 37.  , 47.  , 14.5 , 70.5 , 32.5 , 12.  ,  9.  , 36.5 ,\n",
       "       51.  , 55.5 , 40.5 , 44.  ,  1.  , 61.  , 56.  , 50.  , 36.  ,\n",
       "       45.5 , 20.5 , 62.  , 41.  , 52.  , 63.  , 23.5 ,  0.92, 43.  ,\n",
       "       60.  , 10.  , 64.  , 13.  , 48.  ,  0.75, 53.  , 57.  , 80.  ,\n",
       "       70.  , 24.5 ,  6.  ,  0.67, 30.5 ,  0.42, 34.5 , 74.  ])"
      ]
     },
     "execution_count": 14,
     "metadata": {},
     "output_type": "execute_result"
    }
   ],
   "source": [
    "df_passengers.Age.unique()"
   ]
  },
  {
   "cell_type": "markdown",
   "id": "1445f3e8-87f8-4893-bbde-a6ec60a99998",
   "metadata": {},
   "source": [
    "First, let's see nan"
   ]
  },
  {
   "cell_type": "code",
   "execution_count": 15,
   "id": "d9b8fd8c-fe03-4405-9db9-261d149f5d52",
   "metadata": {},
   "outputs": [
    {
     "name": "stdout",
     "output_type": "stream",
     "text": [
      "There is 177 rows without age\n"
     ]
    }
   ],
   "source": [
    "print(\"There is {} rows without age\".format(df_passengers.Age.isna().sum()))"
   ]
  },
  {
   "cell_type": "markdown",
   "id": "509957b8-5290-4c3b-95f1-b85673eb38d8",
   "metadata": {},
   "source": [
    "Second, let's see the number of passenger with estimated age"
   ]
  },
  {
   "cell_type": "code",
   "execution_count": 16,
   "id": "4dc05f45-e550-43c3-bf22-4a35395efcf2",
   "metadata": {},
   "outputs": [
    {
     "name": "stdout",
     "output_type": "stream",
     "text": [
      "There is 18 rows with estimated age\n"
     ]
    }
   ],
   "source": [
    "print(\"There is {} rows with estimated age\".format(df_passengers[df_passengers.Age.notna()].Age.apply(lambda x: (x - int(x)) == 0.5).sum()))"
   ]
  },
  {
   "cell_type": "markdown",
   "id": "ba7106a4-36da-429d-a1c2-8ba88114fd31",
   "metadata": {},
   "source": [
    "For the moment, we will estimated missing value by the mean of the value which are present in the dataframe"
   ]
  },
  {
   "cell_type": "code",
   "execution_count": 17,
   "id": "dcc24a7a-18e7-4a1a-9bfa-6ed4463cb4df",
   "metadata": {},
   "outputs": [],
   "source": [
    "mean_age = df_passengers[\n",
    "    (df_passengers.Age.notna()) & \n",
    "    (df_passengers[df_passengers.Age.notna()].Age.apply(lambda x: (x - int(x)) != 0.5))\n",
    "].Age.mean()\n",
    "\n",
    "df_passengers.Age = df_passengers.Age.fillna(mean_age)"
   ]
  },
  {
   "cell_type": "markdown",
   "id": "3d2b982d-3a43-48e5-888b-e2a2389cf642",
   "metadata": {},
   "source": [
    "Let's see if age is Gaussian"
   ]
  },
  {
   "cell_type": "code",
   "execution_count": 18,
   "id": "831661f9-0f07-42f4-ad18-442ce1182d90",
   "metadata": {
    "scrolled": true,
    "tags": []
   },
   "outputs": [
    {
     "name": "stdout",
     "output_type": "stream",
     "text": [
      "Shapiro: 3.366480779852434e-15\n",
      "Normal test: 1.9732930746086562e-10\n",
      "Kstest: 2.1112199332947903e-17\n",
      "Anderson: AndersonResult(statistic=15.460820154545672, critical_values=array([0.573, 0.653, 0.784, 0.914, 1.087]), significance_level=array([15. , 10. ,  5. ,  2.5,  1. ]))\n"
     ]
    },
    {
     "data": {
      "image/png": "[encoded data removed]",
      "text/plain": [
       "<Figure size 432x288 with 1 Axes>"
      ]
     },
     "metadata": {
      "needs_background": "light"
     },
     "output_type": "display_data"
    },
    {
     "data": {
      "image/png": "[encoded data removed]",
      "text/plain": [
       "<Figure size 432x288 with 1 Axes>"
      ]
     },
     "metadata": {
      "needs_background": "light"
     },
     "output_type": "display_data"
    }
   ],
   "source": [
    "Age = df_passengers.Age\n",
    "mean_age = Age.mean()\n",
    "std_age = Age.std()\n",
    "Age = Age.apply(lambda Age: (Age - mean_age) / std_age)\n",
    "test_normality(data=Age, bins=20)"
   ]
  },
  {
   "cell_type": "markdown",
   "id": "8b48d166-72c3-403d-b0f4-b59dea012653",
   "metadata": {},
   "source": [
    "Age does not seem to be Gaussian, we will let it like this for the moment"
   ]
  },
  {
   "cell_type": "code",
   "execution_count": 19,
   "id": "be4e249e-59a6-4f5d-8f50-9530c617b590",
   "metadata": {
    "scrolled": true,
    "tags": []
   },
   "outputs": [
    {
     "name": "stdout",
     "output_type": "stream",
     "text": [
      "Shapiro: 2.8111664878522832e-14\n",
      "Normal test: 0.0002951600347859723\n",
      "Kstest: 9.623500722377819e-14\n",
      "Anderson: AndersonResult(statistic=14.713819163754351, critical_values=array([0.573, 0.653, 0.784, 0.914, 1.087]), significance_level=array([15. , 10. ,  5. ,  2.5,  1. ]))\n"
     ]
    },
    {
     "data": {
      "image/png": "[encoded data removed]",
      "text/plain": [
       "<Figure size 432x288 with 1 Axes>"
      ]
     },
     "metadata": {
      "needs_background": "light"
     },
     "output_type": "display_data"
    },
    {
     "data": {
      "image/png": "[encoded data removed]",
      "text/plain": [
       "<Figure size 432x288 with 1 Axes>"
      ]
     },
     "metadata": {
      "needs_background": "light"
     },
     "output_type": "display_data"
    }
   ],
   "source": [
    "from scipy.stats import yeojohnson\n",
    "\n",
    "Age = df_passengers.Age\n",
    "Age, _ = yeojohnson(Age)\n",
    "mean_age = Age.mean()\n",
    "std_age = Age.std()\n",
    "Age = (Age - mean_age) / std_age\n",
    "test_normality(data=Age, bins=20)"
   ]
  },
  {
   "cell_type": "code",
   "execution_count": 20,
   "id": "dada3206-dc66-43e6-bdc1-3e51118652b6",
   "metadata": {
    "scrolled": true,
    "tags": []
   },
   "outputs": [
    {
     "name": "stdout",
     "output_type": "stream",
     "text": [
      "Shapiro: 2.4719099719059702e-14\n",
      "Normal test: 0.0002736868488636927\n",
      "Kstest: 1.2196533330261243e-13\n",
      "Anderson: AndersonResult(statistic=14.818679166332345, critical_values=array([0.573, 0.653, 0.784, 0.914, 1.087]), significance_level=array([15. , 10. ,  5. ,  2.5,  1. ]))\n"
     ]
    },
    {
     "data": {
      "image/png": "[encoded data removed]",
      "text/plain": [
       "<Figure size 432x288 with 1 Axes>"
      ]
     },
     "metadata": {
      "needs_background": "light"
     },
     "output_type": "display_data"
    },
    {
     "data": {
      "image/png": "[encoded data removed]",
      "text/plain": [
       "<Figure size 432x288 with 1 Axes>"
      ]
     },
     "metadata": {
      "needs_background": "light"
     },
     "output_type": "display_data"
    }
   ],
   "source": [
    "from scipy.stats import boxcox\n",
    "\n",
    "Age = df_passengers.Age\n",
    "Age, _ = boxcox(Age)\n",
    "mean_age = Age.mean()\n",
    "std_age = Age.std()\n",
    "Age = (Age - mean_age) / std_age\n",
    "test_normality(data=Age, bins=20)"
   ]
  },
  {
   "cell_type": "markdown",
   "id": "ef87e8cb-7409-42ab-8b72-9db7761e0158",
   "metadata": {},
   "source": [
    "We will standardize age"
   ]
  },
  {
   "cell_type": "code",
   "execution_count": 21,
   "id": "e714a784-73b4-45db-9ec5-1f6e3df8c6f6",
   "metadata": {},
   "outputs": [],
   "source": [
    "Age = df_passengers.Age\n",
    "Age, _ = boxcox(Age)\n",
    "mean_age = Age.mean()\n",
    "std_age = Age.std()\n",
    "df_passengers.Age = (Age - mean_age) / std_age"
   ]
  },
  {
   "cell_type": "code",
   "execution_count": 22,
   "id": "413af4ea-662c-46b6-a7f2-e15841dd48bc",
   "metadata": {},
   "outputs": [
    {
     "data": {
      "text/plain": [
       "count    8.910000e+02\n",
       "mean     7.974666e-17\n",
       "std      1.000562e+00\n",
       "min     -2.605495e+00\n",
       "25%     -5.508727e-01\n",
       "50%      3.519545e-02\n",
       "75%      4.407122e-01\n",
       "max      3.478998e+00\n",
       "Name: Age, dtype: float64"
      ]
     },
     "execution_count": 22,
     "metadata": {},
     "output_type": "execute_result"
    }
   ],
   "source": [
    "df_passengers.Age.describe()"
   ]
  },
  {
   "cell_type": "markdown",
   "id": "67f4a6b1-d16a-46b4-85d0-649df37312f1",
   "metadata": {
    "jp-MarkdownHeadingCollapsed": true,
    "tags": []
   },
   "source": [
    "## 2.6. Sib sp"
   ]
  },
  {
   "cell_type": "markdown",
   "id": "0cf3eb64-2fa6-4394-bcb7-2e6a25310741",
   "metadata": {},
   "source": [
    "SibSp is the number of siblings / spouses aboard the Titanic"
   ]
  },
  {
   "cell_type": "code",
   "execution_count": 23,
   "id": "92f7641e-16ee-48f8-95b8-fbad5c5bdccd",
   "metadata": {},
   "outputs": [
    {
     "data": {
      "text/plain": [
       "array([1, 0, 3, 4, 2, 5, 8], dtype=int64)"
      ]
     },
     "execution_count": 23,
     "metadata": {},
     "output_type": "execute_result"
    }
   ],
   "source": [
    "df_passengers.SibSp.unique()"
   ]
  },
  {
   "cell_type": "markdown",
   "id": "5ce24eba-0fc9-41d9-aed6-7a2b5126d7a7",
   "metadata": {},
   "source": [
    "Let's create other features from SibSp"
   ]
  },
  {
   "cell_type": "code",
   "execution_count": 24,
   "id": "b088a3aa-8ad1-49ba-be92-771db1bc56b5",
   "metadata": {},
   "outputs": [],
   "source": [
    "df_passengers = df_passengers.merge(\n",
    "    pd.get_dummies(df_passengers[[\"SibSp\"]], columns=[\"SibSp\"]),\n",
    "    left_index=True,\n",
    "    right_index=True\n",
    ")\n",
    "for nb_SibSp in [1, 2, 3, 4, 5, 8]:\n",
    "    df_passengers[\"Has_at_least_\" + str(nb_SibSp) + \"_SibSp_onboard\"] = df_passengers.SibSp.apply(lambda SibSp: 1 if SibSp >= nb_SibSp else 0)\n",
    "    \n",
    "mean_sibsp = df_passengers.SibSp.mean()\n",
    "std_sibsp = df_passengers.SibSp.std()\n",
    "df_passengers.SibSp = df_passengers.SibSp.apply(lambda SibSp: (SibSp - mean_sibsp) / std_sibsp)"
   ]
  },
  {
   "cell_type": "markdown",
   "id": "488515ba-617b-4809-bcad-dd2c105ec1ef",
   "metadata": {
    "jp-MarkdownHeadingCollapsed": true,
    "tags": []
   },
   "source": [
    "## 2.7. Parch"
   ]
  },
  {
   "cell_type": "markdown",
   "id": "281c863c-07a8-4ed3-b48a-54dbf827f254",
   "metadata": {},
   "source": [
    "Parch is the number of parents / children aboard the Titanic"
   ]
  },
  {
   "cell_type": "code",
   "execution_count": 25,
   "id": "c67c102c-e4e7-469d-b4d0-470b1836c777",
   "metadata": {},
   "outputs": [
    {
     "data": {
      "text/plain": [
       "array([0, 1, 2, 5, 3, 4, 6], dtype=int64)"
      ]
     },
     "execution_count": 25,
     "metadata": {},
     "output_type": "execute_result"
    }
   ],
   "source": [
    "df_passengers.Parch.unique()"
   ]
  },
  {
   "cell_type": "code",
   "execution_count": 26,
   "id": "8f3abd6a-09b6-4a97-ac72-950c4f56dfff",
   "metadata": {},
   "outputs": [],
   "source": [
    "df_passengers = df_passengers.merge(\n",
    "    pd.get_dummies(df_passengers[[\"Parch\"]], columns=[\"Parch\"]),\n",
    "    left_index=True,\n",
    "    right_index=True\n",
    ")\n",
    "for nb_Parch in [1, 2, 3, 4, 5, 6]:\n",
    "    df_passengers[\"Has_at_least_\" + str(nb_Parch) + \"_Parch_onboard\"] = df_passengers.Parch.apply(lambda Parch: 1 if Parch >= Parch else 0)\n",
    "    \n",
    "mean_parch = df_passengers.Parch.mean()\n",
    "std_parch = df_passengers.Parch.std()\n",
    "df_passengers.Parch = df_passengers.Parch.apply(lambda Parch: (Parch - mean_parch) / std_parch)"
   ]
  },
  {
   "cell_type": "markdown",
   "id": "47f71968-53cd-4e8d-a835-86c230002a17",
   "metadata": {
    "jp-MarkdownHeadingCollapsed": true,
    "tags": []
   },
   "source": [
    "## 2.8. Ticket"
   ]
  },
  {
   "cell_type": "markdown",
   "id": "d127909d-7d0a-4cdd-b083-3866c8e27542",
   "metadata": {},
   "source": [
    "Ticket represent the ticket number"
   ]
  },
  {
   "cell_type": "code",
   "execution_count": 27,
   "id": "e8b0e029-75d7-4746-8a27-9a1c6e661520",
   "metadata": {
    "scrolled": true,
    "tags": []
   },
   "outputs": [
    {
     "data": {
      "text/plain": [
       "array(['A/5 21171', 'PC 17599', 'STON/O2. 3101282', '113803', '373450',\n",
       "       '330877', '17463', '349909', '347742', '237736', 'PP 9549',\n",
       "       '113783', 'A/5. 2151', '347082', '350406', '248706', '382652',\n",
       "       '244373', '345763', '2649', '239865', '248698', '330923', '113788',\n",
       "       '347077', '2631', '19950', '330959', '349216', 'PC 17601',\n",
       "       'PC 17569', '335677', 'C.A. 24579', 'PC 17604', '113789', '2677',\n",
       "       'A./5. 2152', '345764', '2651', '7546', '11668', '349253',\n",
       "       'SC/Paris 2123', '330958', 'S.C./A.4. 23567', '370371', '14311',\n",
       "       '2662', '349237', '3101295', 'A/4. 39886', 'PC 17572', '2926',\n",
       "       '113509', '19947', 'C.A. 31026', '2697', 'C.A. 34651', 'CA 2144',\n",
       "       '2669', '113572', '36973', '347088', 'PC 17605', '2661',\n",
       "       'C.A. 29395', 'S.P. 3464', '3101281', '315151', 'C.A. 33111',\n",
       "       'S.O.C. 14879', '2680', '1601', '348123', '349208', '374746',\n",
       "       '248738', '364516', '345767', '345779', '330932', '113059',\n",
       "       'SO/C 14885', '3101278', 'W./C. 6608', 'SOTON/OQ 392086', '343275',\n",
       "       '343276', '347466', 'W.E.P. 5734', 'C.A. 2315', '364500', '374910',\n",
       "       'PC 17754', 'PC 17759', '231919', '244367', '349245', '349215',\n",
       "       '35281', '7540', '3101276', '349207', '343120', '312991', '349249',\n",
       "       '371110', '110465', '2665', '324669', '4136', '2627',\n",
       "       'STON/O 2. 3101294', '370369', 'PC 17558', 'A4. 54510', '27267',\n",
       "       '370372', 'C 17369', '2668', '347061', '349241',\n",
       "       'SOTON/O.Q. 3101307', 'A/5. 3337', '228414', 'C.A. 29178',\n",
       "       'SC/PARIS 2133', '11752', '7534', 'PC 17593', '2678', '347081',\n",
       "       'STON/O2. 3101279', '365222', '231945', 'C.A. 33112', '350043',\n",
       "       '230080', '244310', 'S.O.P. 1166', '113776', 'A.5. 11206',\n",
       "       'A/5. 851', 'Fa 265302', 'PC 17597', '35851', 'SOTON/OQ 392090',\n",
       "       '315037', 'CA. 2343', '371362', 'C.A. 33595', '347068', '315093',\n",
       "       '363291', '113505', 'PC 17318', '111240', 'STON/O 2. 3101280',\n",
       "       '17764', '350404', '4133', 'PC 17595', '250653', 'LINE',\n",
       "       'SC/PARIS 2131', '230136', '315153', '113767', '370365', '111428',\n",
       "       '364849', '349247', '234604', '28424', '350046', 'PC 17610',\n",
       "       '368703', '4579', '370370', '248747', '345770', '3101264', '2628',\n",
       "       'A/5 3540', '347054', '2699', '367231', '112277',\n",
       "       'SOTON/O.Q. 3101311', 'F.C.C. 13528', 'A/5 21174', '250646',\n",
       "       '367229', '35273', 'STON/O2. 3101283', '243847', '11813',\n",
       "       'W/C 14208', 'SOTON/OQ 392089', '220367', '21440', '349234',\n",
       "       '19943', 'PP 4348', 'SW/PP 751', 'A/5 21173', '236171', '347067',\n",
       "       '237442', 'C.A. 29566', 'W./C. 6609', '26707', 'C.A. 31921',\n",
       "       '28665', 'SCO/W 1585', '367230', 'W./C. 14263',\n",
       "       'STON/O 2. 3101275', '2694', '19928', '347071', '250649', '11751',\n",
       "       '244252', '362316', '113514', 'A/5. 3336', '370129', '2650',\n",
       "       'PC 17585', '110152', 'PC 17755', '230433', '384461', '110413',\n",
       "       '112059', '382649', 'C.A. 17248', '347083', 'PC 17582', 'PC 17760',\n",
       "       '113798', '250644', 'PC 17596', '370375', '13502', '347073',\n",
       "       '239853', 'C.A. 2673', '336439', '347464', '345778', 'A/5. 10482',\n",
       "       '113056', '349239', '345774', '349206', '237798', '370373',\n",
       "       '19877', '11967', 'SC/Paris 2163', '349236', '349233', 'PC 17612',\n",
       "       '2693', '113781', '19988', '9234', '367226', '226593', 'A/5 2466',\n",
       "       '17421', 'PC 17758', 'P/PP 3381', 'PC 17485', '11767', 'PC 17608',\n",
       "       '250651', '349243', 'F.C.C. 13529', '347470', '29011', '36928',\n",
       "       '16966', 'A/5 21172', '349219', '234818', '345364', '28551',\n",
       "       '111361', '113043', 'PC 17611', '349225', '7598', '113784',\n",
       "       '248740', '244361', '229236', '248733', '31418', '386525',\n",
       "       'C.A. 37671', '315088', '7267', '113510', '2695', '2647', '345783',\n",
       "       '237671', '330931', '330980', 'SC/PARIS 2167', '2691',\n",
       "       'SOTON/O.Q. 3101310', 'C 7076', '110813', '2626', '14313',\n",
       "       'PC 17477', '11765', '3101267', '323951', 'C 7077', '113503',\n",
       "       '2648', '347069', 'PC 17757', '2653', 'STON/O 2. 3101293',\n",
       "       '349227', '27849', '367655', 'SC 1748', '113760', '350034',\n",
       "       '3101277', '350052', '350407', '28403', '244278', '240929',\n",
       "       'STON/O 2. 3101289', '341826', '4137', '315096', '28664', '347064',\n",
       "       '29106', '312992', '349222', '394140', 'STON/O 2. 3101269',\n",
       "       '343095', '28220', '250652', '28228', '345773', '349254',\n",
       "       'A/5. 13032', '315082', '347080', 'A/4. 34244', '2003', '250655',\n",
       "       '364851', 'SOTON/O.Q. 392078', '110564', '376564', 'SC/AH 3085',\n",
       "       'STON/O 2. 3101274', '13507', 'C.A. 18723', '345769', '347076',\n",
       "       '230434', '65306', '33638', '113794', '2666', '113786', '65303',\n",
       "       '113051', '17453', 'A/5 2817', '349240', '13509', '17464',\n",
       "       'F.C.C. 13531', '371060', '19952', '364506', '111320', '234360',\n",
       "       'A/S 2816', 'SOTON/O.Q. 3101306', '113792', '36209', '323592',\n",
       "       '315089', 'SC/AH Basle 541', '7553', '31027', '3460', '350060',\n",
       "       '3101298', '239854', 'A/5 3594', '4134', '11771', 'A.5. 18509',\n",
       "       '65304', 'SOTON/OQ 3101317', '113787', 'PC 17609', 'A/4 45380',\n",
       "       '36947', 'C.A. 6212', '350035', '315086', '364846', '330909',\n",
       "       '4135', '26360', '111427', 'C 4001', '382651', 'SOTON/OQ 3101316',\n",
       "       'PC 17473', 'PC 17603', '349209', '36967', 'C.A. 34260', '226875',\n",
       "       '349242', '12749', '349252', '2624', '2700', '367232',\n",
       "       'W./C. 14258', 'PC 17483', '3101296', '29104', '2641', '2690',\n",
       "       '315084', '113050', 'PC 17761', '364498', '13568', 'WE/P 5735',\n",
       "       '2908', '693', 'SC/PARIS 2146', '244358', '330979', '2620',\n",
       "       '347085', '113807', '11755', '345572', '372622', '349251',\n",
       "       '218629', 'SOTON/OQ 392082', 'SOTON/O.Q. 392087', 'A/4 48871',\n",
       "       '349205', '2686', '350417', 'S.W./PP 752', '11769', 'PC 17474',\n",
       "       '14312', 'A/4. 20589', '358585', '243880', '2689',\n",
       "       'STON/O 2. 3101286', '237789', '13049', '3411', '237565', '13567',\n",
       "       '14973', 'A./5. 3235', 'STON/O 2. 3101273', 'A/5 3902', '364848',\n",
       "       'SC/AH 29037', '248727', '2664', '349214', '113796', '364511',\n",
       "       '111426', '349910', '349246', '113804', 'SOTON/O.Q. 3101305',\n",
       "       '370377', '364512', '220845', '31028', '2659', '11753', '350029',\n",
       "       '54636', '36963', '219533', '349224', '334912', '27042', '347743',\n",
       "       '13214', '112052', '237668', 'STON/O 2. 3101292', '350050',\n",
       "       '349231', '13213', 'S.O./P.P. 751', 'CA. 2314', '349221', '8475',\n",
       "       '330919', '365226', '349223', '29751', '2623', '5727', '349210',\n",
       "       'STON/O 2. 3101285', '234686', '312993', 'A/5 3536', '19996',\n",
       "       '29750', 'F.C. 12750', 'C.A. 24580', '244270', '239856', '349912',\n",
       "       '342826', '4138', '330935', '6563', '349228', '350036', '24160',\n",
       "       '17474', '349256', '2672', '113800', '248731', '363592', '35852',\n",
       "       '348121', 'PC 17475', '36864', '350025', '223596', 'PC 17476',\n",
       "       'PC 17482', '113028', '7545', '250647', '348124', '34218', '36568',\n",
       "       '347062', '350048', '12233', '250643', '113806', '315094', '36866',\n",
       "       '236853', 'STON/O2. 3101271', '239855', '28425', '233639',\n",
       "       '349201', '349218', '16988', '376566', 'STON/O 2. 3101288',\n",
       "       '250648', '113773', '335097', '29103', '392096', '345780',\n",
       "       '349204', '350042', '29108', '363294', 'SOTON/O2 3101272', '2663',\n",
       "       '347074', '112379', '364850', '8471', '345781', '350047',\n",
       "       'S.O./P.P. 3', '2674', '29105', '347078', '383121', '36865',\n",
       "       '2687', '113501', 'W./C. 6607', 'SOTON/O.Q. 3101312', '374887',\n",
       "       '3101265', '12460', 'PC 17600', '349203', '28213', '17465',\n",
       "       '349244', '2685', '2625', '347089', '347063', '112050', '347087',\n",
       "       '248723', '3474', '28206', '364499', '112058', 'STON/O2. 3101290',\n",
       "       'S.C./PARIS 2079', 'C 7075', '315098', '19972', '368323', '367228',\n",
       "       '2671', '347468', '2223', 'PC 17756', '315097', '392092', '11774',\n",
       "       'SOTON/O2 3101287', '2683', '315090', 'C.A. 5547', '349213',\n",
       "       '347060', 'PC 17592', '392091', '113055', '2629', '350026',\n",
       "       '28134', '17466', '233866', '236852', 'SC/PARIS 2149', 'PC 17590',\n",
       "       '345777', '349248', '695', '345765', '2667', '349212', '349217',\n",
       "       '349257', '7552', 'C.A./SOTON 34068', 'SOTON/OQ 392076', '211536',\n",
       "       '112053', '111369', '370376'], dtype=object)"
      ]
     },
     "execution_count": 27,
     "metadata": {},
     "output_type": "execute_result"
    }
   ],
   "source": [
    "df_passengers.Ticket.unique()"
   ]
  },
  {
   "cell_type": "markdown",
   "id": "57108d24-0173-471f-ab79-25cec3e562d5",
   "metadata": {},
   "source": [
    "Ticket does not seem to bring information so let's drop it"
   ]
  },
  {
   "cell_type": "code",
   "execution_count": 28,
   "id": "07f63c65-8444-4f56-95b8-41fd373e4151",
   "metadata": {},
   "outputs": [],
   "source": [
    "df_passengers.drop(labels=[\"Ticket\"], axis=1, inplace=True)"
   ]
  },
  {
   "cell_type": "markdown",
   "id": "faa496a6-fc88-4fd1-815a-cbfa5e285051",
   "metadata": {
    "jp-MarkdownHeadingCollapsed": true,
    "tags": []
   },
   "source": [
    "## 2.9. Fare"
   ]
  },
  {
   "cell_type": "markdown",
   "id": "15effb31-35af-42a1-8eca-c97e2bd6f5a0",
   "metadata": {},
   "source": [
    "Fare report the fare of the ticket"
   ]
  },
  {
   "cell_type": "code",
   "execution_count": 29,
   "id": "a1c0e22d-7be2-47f4-b744-25bf3d043df9",
   "metadata": {
    "scrolled": true,
    "tags": []
   },
   "outputs": [
    {
     "data": {
      "text/plain": [
       "array([  7.25  ,  71.2833,   7.925 ,  53.1   ,   8.05  ,   8.4583,\n",
       "        51.8625,  21.075 ,  11.1333,  30.0708,  16.7   ,  26.55  ,\n",
       "        31.275 ,   7.8542,  16.    ,  29.125 ,  13.    ,  18.    ,\n",
       "         7.225 ,  26.    ,   8.0292,  35.5   ,  31.3875, 263.    ,\n",
       "         7.8792,   7.8958,  27.7208, 146.5208,   7.75  ,  10.5   ,\n",
       "        82.1708,  52.    ,   7.2292,  11.2417,   9.475 ,  21.    ,\n",
       "        41.5792,  15.5   ,  21.6792,  17.8   ,  39.6875,   7.8   ,\n",
       "        76.7292,  61.9792,  27.75  ,  46.9   ,  80.    ,  83.475 ,\n",
       "        27.9   ,  15.2458,   8.1583,   8.6625,  73.5   ,  14.4542,\n",
       "        56.4958,   7.65  ,  29.    ,  12.475 ,   9.    ,   9.5   ,\n",
       "         7.7875,  47.1   ,  15.85  ,  34.375 ,  61.175 ,  20.575 ,\n",
       "        34.6542,  63.3583,  23.    ,  77.2875,   8.6542,   7.775 ,\n",
       "        24.15  ,   9.825 ,  14.4583, 247.5208,   7.1417,  22.3583,\n",
       "         6.975 ,   7.05  ,  14.5   ,  15.0458,  26.2833,   9.2167,\n",
       "        79.2   ,   6.75  ,  11.5   ,  36.75  ,   7.7958,  12.525 ,\n",
       "        66.6   ,   7.3125,  61.3792,   7.7333,  69.55  ,  16.1   ,\n",
       "        15.75  ,  20.525 ,  55.    ,  25.925 ,  33.5   ,  30.6958,\n",
       "        25.4667,  28.7125,   0.    ,  15.05  ,  39.    ,  22.025 ,\n",
       "        50.    ,   8.4042,   6.4958,  10.4625,  18.7875,  31.    ,\n",
       "       113.275 ,  27.    ,  76.2917,  90.    ,   9.35  ,  13.5   ,\n",
       "         7.55  ,  26.25  ,  12.275 ,   7.125 ,  52.5542,  20.2125,\n",
       "        86.5   , 512.3292,  79.65  , 153.4625, 135.6333,  19.5   ,\n",
       "        29.7   ,  77.9583,  20.25  ,  78.85  ,  91.0792,  12.875 ,\n",
       "         8.85  , 151.55  ,  30.5   ,  23.25  ,  12.35  , 110.8833,\n",
       "       108.9   ,  24.    ,  56.9292,  83.1583, 262.375 ,  14.    ,\n",
       "       164.8667, 134.5   ,   6.2375,  57.9792,  28.5   , 133.65  ,\n",
       "        15.9   ,   9.225 ,  35.    ,  75.25  ,  69.3   ,  55.4417,\n",
       "       211.5   ,   4.0125, 227.525 ,  15.7417,   7.7292,  12.    ,\n",
       "       120.    ,  12.65  ,  18.75  ,   6.8583,  32.5   ,   7.875 ,\n",
       "        14.4   ,  55.9   ,   8.1125,  81.8583,  19.2583,  19.9667,\n",
       "        89.1042,  38.5   ,   7.725 ,  13.7917,   9.8375,   7.0458,\n",
       "         7.5208,  12.2875,   9.5875,  49.5042,  78.2667,  15.1   ,\n",
       "         7.6292,  22.525 ,  26.2875,  59.4   ,   7.4958,  34.0208,\n",
       "        93.5   , 221.7792, 106.425 ,  49.5   ,  71.    ,  13.8625,\n",
       "         7.8292,  39.6   ,  17.4   ,  51.4792,  26.3875,  30.    ,\n",
       "        40.125 ,   8.7125,  15.    ,  33.    ,  42.4   ,  15.55  ,\n",
       "        65.    ,  32.3208,   7.0542,   8.4333,  25.5875,   9.8417,\n",
       "         8.1375,  10.1708, 211.3375,  57.    ,  13.4167,   7.7417,\n",
       "         9.4833,   7.7375,   8.3625,  23.45  ,  25.9292,   8.6833,\n",
       "         8.5167,   7.8875,  37.0042,   6.45  ,   6.95  ,   8.3   ,\n",
       "         6.4375,  39.4   ,  14.1083,  13.8583,  50.4958,   5.    ,\n",
       "         9.8458,  10.5167])"
      ]
     },
     "execution_count": 29,
     "metadata": {},
     "output_type": "execute_result"
    }
   ],
   "source": [
    "df_passengers.Fare.unique()"
   ]
  },
  {
   "cell_type": "code",
   "execution_count": 30,
   "id": "373951ea-c443-4d36-a9d4-a315dd1b7330",
   "metadata": {
    "scrolled": true,
    "tags": []
   },
   "outputs": [
    {
     "name": "stdout",
     "output_type": "stream",
     "text": [
      "Shapiro: 1.0789998175301091e-43\n",
      "Normal test: 3.727091062842147e-197\n",
      "Kstest: 0.0\n",
      "Anderson: AndersonResult(statistic=122.16962721459208, critical_values=array([0.573, 0.653, 0.784, 0.914, 1.087]), significance_level=array([15. , 10. ,  5. ,  2.5,  1. ]))\n"
     ]
    },
    {
     "data": {
      "image/png": "[encoded data removed]",
      "text/plain": [
       "<Figure size 432x288 with 1 Axes>"
      ]
     },
     "metadata": {
      "needs_background": "light"
     },
     "output_type": "display_data"
    },
    {
     "data": {
      "image/png": "[encoded data removed]",
      "text/plain": [
       "<Figure size 432x288 with 1 Axes>"
      ]
     },
     "metadata": {
      "needs_background": "light"
     },
     "output_type": "display_data"
    }
   ],
   "source": [
    "test_normality(data=df_passengers.Fare, bins=20)"
   ]
  },
  {
   "cell_type": "code",
   "execution_count": 31,
   "id": "99b7e258-4517-4c9e-acdc-3b3cde650af3",
   "metadata": {
    "scrolled": true,
    "tags": []
   },
   "outputs": [
    {
     "name": "stdout",
     "output_type": "stream",
     "text": [
      "Shapiro: 1.7473432590121475e-32\n",
      "Normal test: 5.506750739166405e-89\n",
      "Kstest: 0.0\n",
      "Anderson: AndersonResult(statistic=56.62090227289309, critical_values=array([0.573, 0.653, 0.784, 0.914, 1.087]), significance_level=array([15. , 10. ,  5. ,  2.5,  1. ]))\n"
     ]
    },
    {
     "data": {
      "image/png": "[encoded data removed]",
      "text/plain": [
       "<Figure size 432x288 with 1 Axes>"
      ]
     },
     "metadata": {
      "needs_background": "light"
     },
     "output_type": "display_data"
    },
    {
     "data": {
      "image/png": "[encoded data removed]",
      "text/plain": [
       "<Figure size 432x288 with 1 Axes>"
      ]
     },
     "metadata": {
      "needs_background": "light"
     },
     "output_type": "display_data"
    }
   ],
   "source": [
    "test_normality(data=df_passengers.Fare.apply(lambda Fare: np.sqrt(Fare)), bins=20)"
   ]
  },
  {
   "cell_type": "code",
   "execution_count": 32,
   "id": "8fc59441-4c80-492e-ad2b-fd48a8a58baf",
   "metadata": {
    "scrolled": true,
    "tags": []
   },
   "outputs": [
    {
     "name": "stdout",
     "output_type": "stream",
     "text": [
      "Shapiro: 4.881414735957935e-22\n",
      "Normal test: 2.9145248782541248e-15\n",
      "Kstest: 0.0\n",
      "Anderson: AndersonResult(statistic=28.30408298802081, critical_values=array([0.573, 0.653, 0.784, 0.914, 1.087]), significance_level=array([15. , 10. ,  5. ,  2.5,  1. ]))\n"
     ]
    },
    {
     "data": {
      "image/png": "[encoded data removed]",
      "text/plain": [
       "<Figure size 432x288 with 1 Axes>"
      ]
     },
     "metadata": {
      "needs_background": "light"
     },
     "output_type": "display_data"
    },
    {
     "data": {
      "image/png": "[encoded data removed]",
      "text/plain": [
       "<Figure size 432x288 with 1 Axes>"
      ]
     },
     "metadata": {
      "needs_background": "light"
     },
     "output_type": "display_data"
    }
   ],
   "source": [
    "Fare = df_passengers.Fare\n",
    "min_fare = sorted(Fare.unique())[1]\n",
    "Fare = Fare.apply(lambda Fare: np.log(Fare + min_fare / 2))\n",
    "mean_fare = Fare.mean()\n",
    "std_fare = Fare.std()\n",
    "Fare.apply(lambda Fare: (Fare - mean_fare) / std_fare)\n",
    "test_normality(data=Fare, bins=20)"
   ]
  },
  {
   "cell_type": "code",
   "execution_count": 33,
   "id": "207cb27e-50e9-427a-ada1-0b8a2f9a495b",
   "metadata": {
    "scrolled": true,
    "tags": []
   },
   "outputs": [
    {
     "name": "stdout",
     "output_type": "stream",
     "text": [
      "Shapiro: 6.641983649504133e-22\n",
      "Normal test: 2.2062461110567143e-09\n",
      "Kstest: 2.7087086499814676e-18\n",
      "Anderson: AndersonResult(statistic=26.16684640028302, critical_values=array([0.573, 0.653, 0.784, 0.914, 1.087]), significance_level=array([15. , 10. ,  5. ,  2.5,  1. ]))\n"
     ]
    },
    {
     "data": {
      "image/png": "[encoded data removed]",
      "text/plain": [
       "<Figure size 432x288 with 1 Axes>"
      ]
     },
     "metadata": {
      "needs_background": "light"
     },
     "output_type": "display_data"
    },
    {
     "data": {
      "image/png": "[encoded data removed]",
      "text/plain": [
       "<Figure size 432x288 with 1 Axes>"
      ]
     },
     "metadata": {
      "needs_background": "light"
     },
     "output_type": "display_data"
    }
   ],
   "source": [
    "Fare = df_passengers.Fare\n",
    "Fare = Fare.apply(lambda Fare: np.log(Fare + 1))\n",
    "mean_fare = Fare.mean()\n",
    "std_fare = Fare.std()\n",
    "Fare = Fare.apply(lambda Fare: (Fare - mean_fare) / std_fare)\n",
    "test_normality(data=Fare, bins=20)"
   ]
  },
  {
   "cell_type": "code",
   "execution_count": 34,
   "id": "7c74da57-2762-4b5b-99f5-686d54ca46a5",
   "metadata": {
    "scrolled": true,
    "tags": []
   },
   "outputs": [
    {
     "name": "stdout",
     "output_type": "stream",
     "text": [
      "Shapiro: 2.7460046162351684e-22\n",
      "Normal test: 8.147507760164392e-08\n",
      "Kstest: 3.916899968643525e-18\n",
      "Anderson: AndersonResult(statistic=23.158788702125094, critical_values=array([0.573, 0.653, 0.784, 0.914, 1.087]), significance_level=array([15. , 10. ,  5. ,  2.5,  1. ]))\n"
     ]
    },
    {
     "data": {
      "image/png": "[encoded data removed]",
      "text/plain": [
       "<Figure size 432x288 with 1 Axes>"
      ]
     },
     "metadata": {
      "needs_background": "light"
     },
     "output_type": "display_data"
    },
    {
     "data": {
      "image/png": "[encoded data removed]",
      "text/plain": [
       "<Figure size 432x288 with 1 Axes>"
      ]
     },
     "metadata": {
      "needs_background": "light"
     },
     "output_type": "display_data"
    }
   ],
   "source": [
    "from scipy.stats import yeojohnson\n",
    "\n",
    "Fare = df_passengers.Fare\n",
    "Fare, _ = yeojohnson(Fare)\n",
    "mean_fare = Fare.mean()\n",
    "std_fare = Fare.std()\n",
    "Fare = (Fare - mean_fare) / std_fare\n",
    "test_normality(data=Fare, bins=20)"
   ]
  },
  {
   "cell_type": "code",
   "execution_count": 35,
   "id": "6cc09a50-a08c-4c97-9287-09ce8653ec67",
   "metadata": {
    "scrolled": true,
    "tags": []
   },
   "outputs": [
    {
     "name": "stdout",
     "output_type": "stream",
     "text": [
      "Shapiro: 2.7460046162351684e-22\n",
      "Normal test: 8.147507760164423e-08\n",
      "Kstest: 3.916899968643525e-18\n",
      "Anderson: AndersonResult(statistic=23.158788702125094, critical_values=array([0.573, 0.653, 0.784, 0.914, 1.087]), significance_level=array([15. , 10. ,  5. ,  2.5,  1. ]))\n"
     ]
    },
    {
     "data": {
      "image/png": "[encoded data removed]",
      "text/plain": [
       "<Figure size 432x288 with 1 Axes>"
      ]
     },
     "metadata": {
      "needs_background": "light"
     },
     "output_type": "display_data"
    },
    {
     "data": {
      "image/png": "[encoded data removed]",
      "text/plain": [
       "<Figure size 432x288 with 1 Axes>"
      ]
     },
     "metadata": {
      "needs_background": "light"
     },
     "output_type": "display_data"
    }
   ],
   "source": [
    "from scipy.stats import boxcox\n",
    "\n",
    "Fare = df_passengers.Fare\n",
    "Fare, _ = boxcox(Fare + 1)\n",
    "mean_fare = Fare.mean()\n",
    "std_fare = Fare.std()\n",
    "Fare = (Fare - mean_fare) / std_fare\n",
    "test_normality(data=Fare, bins=20)"
   ]
  },
  {
   "cell_type": "markdown",
   "id": "beed327a-b756-4cb6-bc83-f707fcff0d8b",
   "metadata": {},
   "source": [
    "For the moment, let's keep logarithm transformation"
   ]
  },
  {
   "cell_type": "code",
   "execution_count": 36,
   "id": "a6828acc-8cc6-4b4a-9026-4a4bacc158a9",
   "metadata": {},
   "outputs": [],
   "source": [
    "df_passengers.Fare = df_passengers.Fare.apply(lambda Fare: np.log(Fare + 1))\n",
    "mean_fare = df_passengers.Fare.mean()\n",
    "std_fare = df_passengers.Fare.std()\n",
    "df_passengers.Fare = df_passengers.Fare.apply(lambda Fare: (Fare - mean_fare) / std_fare)"
   ]
  },
  {
   "cell_type": "markdown",
   "id": "c2a5102d-a525-4cb5-bcb9-131966eeefd7",
   "metadata": {
    "jp-MarkdownHeadingCollapsed": true,
    "tags": []
   },
   "source": [
    "## 2.10. Cabin"
   ]
  },
  {
   "cell_type": "markdown",
   "id": "2272b59b-8856-46e6-8c85-919b278eda2b",
   "metadata": {},
   "source": [
    "Cabin represent the Cabin number"
   ]
  },
  {
   "cell_type": "code",
   "execution_count": 37,
   "id": "f9f07c06-2ceb-4b14-8b27-89448a23f4bb",
   "metadata": {
    "tags": []
   },
   "outputs": [
    {
     "data": {
      "text/plain": [
       "array([nan, 'C85', 'C123', 'E46', 'G6', 'C103', 'D56', 'A6',\n",
       "       'C23 C25 C27', 'B78', 'D33', 'B30', 'C52', 'B28', 'C83', 'F33',\n",
       "       'F G73', 'E31', 'A5', 'D10 D12', 'D26', 'C110', 'B58 B60', 'E101',\n",
       "       'F E69', 'D47', 'B86', 'F2', 'C2', 'E33', 'B19', 'A7', 'C49', 'F4',\n",
       "       'A32', 'B4', 'B80', 'A31', 'D36', 'D15', 'C93', 'C78', 'D35',\n",
       "       'C87', 'B77', 'E67', 'B94', 'C125', 'C99', 'C118', 'D7', 'A19',\n",
       "       'B49', 'D', 'C22 C26', 'C106', 'C65', 'E36', 'C54',\n",
       "       'B57 B59 B63 B66', 'C7', 'E34', 'C32', 'B18', 'C124', 'C91', 'E40',\n",
       "       'T', 'C128', 'D37', 'B35', 'E50', 'C82', 'B96 B98', 'E10', 'E44',\n",
       "       'A34', 'C104', 'C111', 'C92', 'E38', 'D21', 'E12', 'E63', 'A14',\n",
       "       'B37', 'C30', 'D20', 'B79', 'E25', 'D46', 'B73', 'C95', 'B38',\n",
       "       'B39', 'B22', 'C86', 'C70', 'A16', 'C101', 'C68', 'A10', 'E68',\n",
       "       'B41', 'A20', 'D19', 'D50', 'D9', 'A23', 'B50', 'A26', 'D48',\n",
       "       'E58', 'C126', 'B71', 'B51 B53 B55', 'D49', 'B5', 'B20', 'F G63',\n",
       "       'C62 C64', 'E24', 'C90', 'C45', 'E8', 'B101', 'D45', 'C46', 'D30',\n",
       "       'E121', 'D11', 'E77', 'F38', 'B3', 'D6', 'B82 B84', 'D17', 'A36',\n",
       "       'B102', 'B69', 'E49', 'C47', 'D28', 'E17', 'A24', 'C50', 'B42',\n",
       "       'C148'], dtype=object)"
      ]
     },
     "execution_count": 37,
     "metadata": {},
     "output_type": "execute_result"
    }
   ],
   "source": [
    "df_passengers.Cabin.unique()"
   ]
  },
  {
   "cell_type": "code",
   "execution_count": 38,
   "id": "115af8e3-bed6-4969-90a9-99c6bf52ab8d",
   "metadata": {},
   "outputs": [
    {
     "data": {
      "text/plain": [
       "0.7710437710437711"
      ]
     },
     "execution_count": 38,
     "metadata": {},
     "output_type": "execute_result"
    }
   ],
   "source": [
    "df_passengers.Cabin.isna().mean()"
   ]
  },
  {
   "cell_type": "code",
   "execution_count": 39,
   "id": "2e2639b0-bc37-4d79-abc0-401167ba4d12",
   "metadata": {},
   "outputs": [],
   "source": [
    "df_passengers[\"Has_a_cabin\"] = df_passengers.Cabin.notna()"
   ]
  },
  {
   "cell_type": "code",
   "execution_count": 40,
   "id": "64fe109b-d832-454e-9fac-3133c12c5498",
   "metadata": {},
   "outputs": [],
   "source": [
    "df_passengers.drop(labels=[\"Cabin\"], axis=1, inplace=True)"
   ]
  },
  {
   "cell_type": "markdown",
   "id": "37e124b7-d335-4803-ab54-2e2a1d539b31",
   "metadata": {
    "tags": []
   },
   "source": [
    "## 2.11. Embarked"
   ]
  },
  {
   "cell_type": "markdown",
   "id": "1b3c299f-4c64-4533-a489-70e930afe5ee",
   "metadata": {},
   "source": [
    "Embarked is the port of embarkation"
   ]
  },
  {
   "cell_type": "code",
   "execution_count": 41,
   "id": "a1d0c01f-ef5e-40b3-b8bc-224ddbf5ddec",
   "metadata": {},
   "outputs": [
    {
     "data": {
      "text/plain": [
       "array(['S', 'C', 'Q', nan], dtype=object)"
      ]
     },
     "execution_count": 41,
     "metadata": {},
     "output_type": "execute_result"
    }
   ],
   "source": [
    "df_passengers.Embarked.unique()"
   ]
  },
  {
   "cell_type": "code",
   "execution_count": 42,
   "id": "bc3a3336-9834-4bbf-a5d6-dc6e1772f32a",
   "metadata": {},
   "outputs": [
    {
     "data": {
      "text/plain": [
       "2"
      ]
     },
     "execution_count": 42,
     "metadata": {},
     "output_type": "execute_result"
    }
   ],
   "source": [
    "df_passengers.Embarked.isna().sum()"
   ]
  },
  {
   "cell_type": "markdown",
   "id": "c249c825-3805-4061-bfcf-9777bc90c34c",
   "metadata": {},
   "source": [
    "For this moment, let's fill missing embarkation with 'M'"
   ]
  },
  {
   "cell_type": "code",
   "execution_count": 43,
   "id": "a6420cfc-7e81-4027-afd7-cafdfd8f02cd",
   "metadata": {},
   "outputs": [],
   "source": [
    "df_passengers.Embarked = df_passengers.Embarked.fillna('M')"
   ]
  },
  {
   "cell_type": "code",
   "execution_count": 44,
   "id": "98f3c634-9e51-4a8d-aa47-a69d5dd93a5c",
   "metadata": {},
   "outputs": [],
   "source": [
    "df_passengers = pd.get_dummies(df_passengers, columns=[\"Embarked\"])"
   ]
  }
 ],
 "metadata": {
  "kernelspec": {
   "display_name": "Python 3 (ipykernel)",
   "language": "python",
   "name": "python3"
  },
  "language_info": {
   "codemirror_mode": {
    "name": "ipython",
    "version": 3
   },
   "file_extension": ".py",
   "mimetype": "text/x-python",
   "name": "python",
   "nbconvert_exporter": "python",
   "pygments_lexer": "ipython3",
   "version": "3.9.12"
  }
 },
 "nbformat": 4,
 "nbformat_minor": 5
}
