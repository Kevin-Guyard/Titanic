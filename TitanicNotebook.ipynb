{
 "cells": [
  {
   "cell_type": "markdown",
   "id": "4d8eb7ad-8dde-47f5-afe5-d9b94ad6f0f6",
   "metadata": {
    "jp-MarkdownHeadingCollapsed": true,
    "tags": []
   },
   "source": [
    "# 1. Load data"
   ]
  },
  {
   "cell_type": "code",
   "execution_count": 1,
   "id": "6636bc96-6ac7-4a52-b08c-0daa04fa6f51",
   "metadata": {},
   "outputs": [],
   "source": [
    "import pandas as pd\n",
    "import numpy as np"
   ]
  },
  {
   "cell_type": "code",
   "execution_count": 2,
   "id": "c528c844-1934-45a1-8c2f-7b4a02b5d2c1",
   "metadata": {},
   "outputs": [],
   "source": [
    "df_train = pd.read_csv(\"./data/train.csv\")\n",
    "df_test = pd.read_csv(\"./data/test.csv\")"
   ]
  },
  {
   "cell_type": "code",
   "execution_count": 3,
   "id": "26a37cf7-a555-4d6f-b635-8bbd3faab222",
   "metadata": {
    "tags": []
   },
   "outputs": [
    {
     "data": {
      "text/html": [
       "<div>\n",
       "<style scoped>\n",
       "    .dataframe tbody tr th:only-of-type {\n",
       "        vertical-align: middle;\n",
       "    }\n",
       "\n",
       "    .dataframe tbody tr th {\n",
       "        vertical-align: top;\n",
       "    }\n",
       "\n",
       "    .dataframe thead th {\n",
       "        text-align: right;\n",
       "    }\n",
       "</style>\n",
       "<table border=\"1\" class=\"dataframe\">\n",
       "  <thead>\n",
       "    <tr style=\"text-align: right;\">\n",
       "      <th></th>\n",
       "      <th>PassengerId</th>\n",
       "      <th>Survived</th>\n",
       "      <th>Pclass</th>\n",
       "      <th>Name</th>\n",
       "      <th>Sex</th>\n",
       "      <th>Age</th>\n",
       "      <th>SibSp</th>\n",
       "      <th>Parch</th>\n",
       "      <th>Ticket</th>\n",
       "      <th>Fare</th>\n",
       "      <th>Cabin</th>\n",
       "      <th>Embarked</th>\n",
       "    </tr>\n",
       "  </thead>\n",
       "  <tbody>\n",
       "    <tr>\n",
       "      <th>0</th>\n",
       "      <td>1</td>\n",
       "      <td>0</td>\n",
       "      <td>3</td>\n",
       "      <td>Braund, Mr. Owen Harris</td>\n",
       "      <td>male</td>\n",
       "      <td>22.0</td>\n",
       "      <td>1</td>\n",
       "      <td>0</td>\n",
       "      <td>A/5 21171</td>\n",
       "      <td>7.2500</td>\n",
       "      <td>NaN</td>\n",
       "      <td>S</td>\n",
       "    </tr>\n",
       "    <tr>\n",
       "      <th>1</th>\n",
       "      <td>2</td>\n",
       "      <td>1</td>\n",
       "      <td>1</td>\n",
       "      <td>Cumings, Mrs. John Bradley (Florence Briggs Th...</td>\n",
       "      <td>female</td>\n",
       "      <td>38.0</td>\n",
       "      <td>1</td>\n",
       "      <td>0</td>\n",
       "      <td>PC 17599</td>\n",
       "      <td>71.2833</td>\n",
       "      <td>C85</td>\n",
       "      <td>C</td>\n",
       "    </tr>\n",
       "    <tr>\n",
       "      <th>2</th>\n",
       "      <td>3</td>\n",
       "      <td>1</td>\n",
       "      <td>3</td>\n",
       "      <td>Heikkinen, Miss. Laina</td>\n",
       "      <td>female</td>\n",
       "      <td>26.0</td>\n",
       "      <td>0</td>\n",
       "      <td>0</td>\n",
       "      <td>STON/O2. 3101282</td>\n",
       "      <td>7.9250</td>\n",
       "      <td>NaN</td>\n",
       "      <td>S</td>\n",
       "    </tr>\n",
       "  </tbody>\n",
       "</table>\n",
       "</div>"
      ],
      "text/plain": [
       "   PassengerId  Survived  Pclass  \\\n",
       "0            1         0       3   \n",
       "1            2         1       1   \n",
       "2            3         1       3   \n",
       "\n",
       "                                                Name     Sex   Age  SibSp  \\\n",
       "0                            Braund, Mr. Owen Harris    male  22.0      1   \n",
       "1  Cumings, Mrs. John Bradley (Florence Briggs Th...  female  38.0      1   \n",
       "2                             Heikkinen, Miss. Laina  female  26.0      0   \n",
       "\n",
       "   Parch            Ticket     Fare Cabin Embarked  \n",
       "0      0         A/5 21171   7.2500   NaN        S  \n",
       "1      0          PC 17599  71.2833   C85        C  \n",
       "2      0  STON/O2. 3101282   7.9250   NaN        S  "
      ]
     },
     "execution_count": 3,
     "metadata": {},
     "output_type": "execute_result"
    }
   ],
   "source": [
    "df_train.head(3)"
   ]
  },
  {
   "cell_type": "code",
   "execution_count": 4,
   "id": "c2d89cfb-1168-41c1-b7af-0829fe74c8e3",
   "metadata": {
    "tags": []
   },
   "outputs": [
    {
     "data": {
      "text/html": [
       "<div>\n",
       "<style scoped>\n",
       "    .dataframe tbody tr th:only-of-type {\n",
       "        vertical-align: middle;\n",
       "    }\n",
       "\n",
       "    .dataframe tbody tr th {\n",
       "        vertical-align: top;\n",
       "    }\n",
       "\n",
       "    .dataframe thead th {\n",
       "        text-align: right;\n",
       "    }\n",
       "</style>\n",
       "<table border=\"1\" class=\"dataframe\">\n",
       "  <thead>\n",
       "    <tr style=\"text-align: right;\">\n",
       "      <th></th>\n",
       "      <th>PassengerId</th>\n",
       "      <th>Pclass</th>\n",
       "      <th>Name</th>\n",
       "      <th>Sex</th>\n",
       "      <th>Age</th>\n",
       "      <th>SibSp</th>\n",
       "      <th>Parch</th>\n",
       "      <th>Ticket</th>\n",
       "      <th>Fare</th>\n",
       "      <th>Cabin</th>\n",
       "      <th>Embarked</th>\n",
       "    </tr>\n",
       "  </thead>\n",
       "  <tbody>\n",
       "    <tr>\n",
       "      <th>0</th>\n",
       "      <td>892</td>\n",
       "      <td>3</td>\n",
       "      <td>Kelly, Mr. James</td>\n",
       "      <td>male</td>\n",
       "      <td>34.5</td>\n",
       "      <td>0</td>\n",
       "      <td>0</td>\n",
       "      <td>330911</td>\n",
       "      <td>7.8292</td>\n",
       "      <td>NaN</td>\n",
       "      <td>Q</td>\n",
       "    </tr>\n",
       "    <tr>\n",
       "      <th>1</th>\n",
       "      <td>893</td>\n",
       "      <td>3</td>\n",
       "      <td>Wilkes, Mrs. James (Ellen Needs)</td>\n",
       "      <td>female</td>\n",
       "      <td>47.0</td>\n",
       "      <td>1</td>\n",
       "      <td>0</td>\n",
       "      <td>363272</td>\n",
       "      <td>7.0000</td>\n",
       "      <td>NaN</td>\n",
       "      <td>S</td>\n",
       "    </tr>\n",
       "    <tr>\n",
       "      <th>2</th>\n",
       "      <td>894</td>\n",
       "      <td>2</td>\n",
       "      <td>Myles, Mr. Thomas Francis</td>\n",
       "      <td>male</td>\n",
       "      <td>62.0</td>\n",
       "      <td>0</td>\n",
       "      <td>0</td>\n",
       "      <td>240276</td>\n",
       "      <td>9.6875</td>\n",
       "      <td>NaN</td>\n",
       "      <td>Q</td>\n",
       "    </tr>\n",
       "  </tbody>\n",
       "</table>\n",
       "</div>"
      ],
      "text/plain": [
       "   PassengerId  Pclass                              Name     Sex   Age  SibSp  \\\n",
       "0          892       3                  Kelly, Mr. James    male  34.5      0   \n",
       "1          893       3  Wilkes, Mrs. James (Ellen Needs)  female  47.0      1   \n",
       "2          894       2         Myles, Mr. Thomas Francis    male  62.0      0   \n",
       "\n",
       "   Parch  Ticket    Fare Cabin Embarked  \n",
       "0      0  330911  7.8292   NaN        Q  \n",
       "1      0  363272  7.0000   NaN        S  \n",
       "2      0  240276  9.6875   NaN        Q  "
      ]
     },
     "execution_count": 4,
     "metadata": {},
     "output_type": "execute_result"
    }
   ],
   "source": [
    "df_test.head(3)"
   ]
  },
  {
   "cell_type": "code",
   "execution_count": 5,
   "id": "a16f3bd2-d186-4f7c-b393-5754356b42f5",
   "metadata": {},
   "outputs": [
    {
     "name": "stdout",
     "output_type": "stream",
     "text": [
      "There is 891 rows and 12 columns in the train dataframe\n",
      "There is 418 rows and 11 columns in the test dataframe\n"
     ]
    }
   ],
   "source": [
    "print(\"There is {} rows and {} columns in the train dataframe\".format(df_train.shape[0], df_train.shape[1]))\n",
    "print(\"There is {} rows and {} columns in the test dataframe\".format(df_test.shape[0], df_test.shape[1]))"
   ]
  },
  {
   "cell_type": "markdown",
   "id": "5cbb4099-3bf8-4202-8975-3b5e6066508d",
   "metadata": {
    "jp-MarkdownHeadingCollapsed": true,
    "tags": []
   },
   "source": [
    "# 2. Preprocessing & feature engineering"
   ]
  },
  {
   "cell_type": "code",
   "execution_count": 6,
   "id": "b5cf4d11-7efe-4c8d-9fbb-6151480ec179",
   "metadata": {},
   "outputs": [],
   "source": [
    "import matplotlib.pyplot as plt\n",
    "import scipy\n",
    "from statsmodels.graphics.gofplots import qqplot"
   ]
  },
  {
   "cell_type": "code",
   "execution_count": 7,
   "id": "0622a7b5-efde-4c15-b497-a3bec394947e",
   "metadata": {},
   "outputs": [],
   "source": [
    "def test_normality(data, bins):\n",
    "    \n",
    "    _, p_value_shapiro = scipy.stats.shapiro(data)\n",
    "    _, p_value_normaltest = scipy.stats.normaltest(data)\n",
    "    _, p_value_kstest = scipy.stats.kstest(data, 'norm')\n",
    "    result_anderson = scipy.stats.anderson(data)\n",
    "    \n",
    "    print(\"Shapiro: {}\".format(p_value_shapiro))\n",
    "    print(\"Normal test: {}\".format(p_value_normaltest))\n",
    "    print(\"Kstest: {}\".format(p_value_kstest))\n",
    "    print(\"Anderson: {}\".format(result_anderson))\n",
    "    \n",
    "    plt.hist(data, bins=bins)\n",
    "    qqplot(data, line='s')\n",
    "    plt.show()"
   ]
  },
  {
   "cell_type": "markdown",
   "id": "9b7c5890-030c-4bbd-945d-35dfef348239",
   "metadata": {
    "jp-MarkdownHeadingCollapsed": true,
    "tags": []
   },
   "source": [
    "## 2.1. Passenger id"
   ]
  },
  {
   "cell_type": "markdown",
   "id": "11045fbd-bf19-4912-ae34-47f7c4b8c009",
   "metadata": {},
   "source": [
    "Passenger id is nothing more than the id in the dataframe, it does not bring any information, we can drop it"
   ]
  },
  {
   "cell_type": "code",
   "execution_count": 8,
   "id": "e31166e2-e2aa-4804-b2c9-88e7f0da755b",
   "metadata": {},
   "outputs": [],
   "source": [
    "df_train.drop(labels=[\"PassengerId\"], axis=1, inplace=True)"
   ]
  },
  {
   "cell_type": "markdown",
   "id": "3263bb2c-df80-4e73-a3a4-b81ebd8189ef",
   "metadata": {
    "jp-MarkdownHeadingCollapsed": true,
    "tags": []
   },
   "source": [
    "## 2.2. Pclass"
   ]
  },
  {
   "cell_type": "markdown",
   "id": "1ff032aa-d2bb-42c5-a799-32884dbcdbd3",
   "metadata": {},
   "source": [
    "P class is the ticket class, which can be see as a proxy for socio-economic status"
   ]
  },
  {
   "cell_type": "code",
   "execution_count": 9,
   "id": "2fbcb7f0-415c-4906-bfad-17dfa980dd02",
   "metadata": {},
   "outputs": [
    {
     "data": {
      "text/plain": [
       "array([3, 1, 2], dtype=int64)"
      ]
     },
     "execution_count": 9,
     "metadata": {},
     "output_type": "execute_result"
    }
   ],
   "source": [
    "df_train.Pclass.unique()"
   ]
  },
  {
   "cell_type": "code",
   "execution_count": 10,
   "id": "3af4d6c7-03ac-45f5-ba6c-234cbdf78f52",
   "metadata": {},
   "outputs": [
    {
     "data": {
      "text/plain": [
       "array([3, 2, 1], dtype=int64)"
      ]
     },
     "execution_count": 10,
     "metadata": {},
     "output_type": "execute_result"
    }
   ],
   "source": [
    "df_test.Pclass.unique()"
   ]
  },
  {
   "cell_type": "markdown",
   "id": "03b45a16-2283-4ab2-ab20-bf1db592173d",
   "metadata": {},
   "source": [
    "There is 3 differents categories, let get dummies from"
   ]
  },
  {
   "cell_type": "code",
   "execution_count": 11,
   "id": "a2d2b9bd-f8cb-47ae-977a-f3052b69e3ec",
   "metadata": {},
   "outputs": [],
   "source": [
    "df_train = pd.get_dummies(data=df_train, columns=[\"Pclass\"], drop_first=False)\n",
    "df_test = pd.get_dummies(data=df_test, columns=[\"Pclass\"], drop_first=False)"
   ]
  },
  {
   "cell_type": "markdown",
   "id": "b3ff89a6-0496-459f-a1b6-a231e8f7faf3",
   "metadata": {
    "jp-MarkdownHeadingCollapsed": true,
    "tags": []
   },
   "source": [
    "## 2.3. Name"
   ]
  },
  {
   "cell_type": "markdown",
   "id": "9132606d-5580-46fc-a47e-be2bbbb6056d",
   "metadata": {},
   "source": [
    "For the moment, we will drop Name and see after if NLP can help us to extract another features"
   ]
  },
  {
   "cell_type": "code",
   "execution_count": 12,
   "id": "89da736f-5f46-4966-9bc4-ead7e14bf6d4",
   "metadata": {},
   "outputs": [],
   "source": [
    "df_train.drop(labels=[\"Name\"], axis=1, inplace=True)\n",
    "df_test.drop(labels=[\"Name\"], axis=1, inplace=True)"
   ]
  },
  {
   "cell_type": "markdown",
   "id": "928b3255-1610-4b90-ac77-d2004af04ba7",
   "metadata": {
    "jp-MarkdownHeadingCollapsed": true,
    "tags": []
   },
   "source": [
    "## 2.4. Sex"
   ]
  },
  {
   "cell_type": "code",
   "execution_count": 13,
   "id": "d8b328bf-031d-4066-a2f6-bfd98522b72d",
   "metadata": {},
   "outputs": [
    {
     "data": {
      "text/plain": [
       "array(['male', 'female'], dtype=object)"
      ]
     },
     "execution_count": 13,
     "metadata": {},
     "output_type": "execute_result"
    }
   ],
   "source": [
    "df_train.Sex.unique()"
   ]
  },
  {
   "cell_type": "code",
   "execution_count": 14,
   "id": "25fc7a90-2106-4d28-89b9-3474434b0619",
   "metadata": {},
   "outputs": [
    {
     "data": {
      "text/plain": [
       "array(['male', 'female'], dtype=object)"
      ]
     },
     "execution_count": 14,
     "metadata": {},
     "output_type": "execute_result"
    }
   ],
   "source": [
    "df_test.Sex.unique()"
   ]
  },
  {
   "cell_type": "markdown",
   "id": "61f32f23-4f54-4671-9da8-80878213e77b",
   "metadata": {},
   "source": [
    "There is 2 differents categories, let get dummies from"
   ]
  },
  {
   "cell_type": "code",
   "execution_count": 15,
   "id": "7cc8c740-0c49-4112-9351-dbb6e33baf9f",
   "metadata": {},
   "outputs": [],
   "source": [
    "df_train = pd.get_dummies(data=df_train, columns=[\"Sex\"], drop_first=True)\n",
    "df_test = pd.get_dummies(data=df_test, columns=[\"Sex\"], drop_first=True)"
   ]
  },
  {
   "cell_type": "markdown",
   "id": "066bbbe9-e21c-406b-ab07-67c242a30dcf",
   "metadata": {
    "jp-MarkdownHeadingCollapsed": true,
    "tags": []
   },
   "source": [
    "## 2.5. Age"
   ]
  },
  {
   "cell_type": "markdown",
   "id": "5b0512d1-e43a-4723-bfc1-0ec6473f1290",
   "metadata": {},
   "source": [
    "Age is integer based. For children less than one years old, Age is fractionnal. If the Age is estimated, Age is in the format xx.5"
   ]
  },
  {
   "cell_type": "code",
   "execution_count": 16,
   "id": "ccd64991-54f6-40e8-9f0e-4c4e3029af33",
   "metadata": {},
   "outputs": [
    {
     "data": {
      "text/plain": [
       "array([22.  , 38.  , 26.  , 35.  ,   nan, 54.  ,  2.  , 27.  , 14.  ,\n",
       "        4.  , 58.  , 20.  , 39.  , 55.  , 31.  , 34.  , 15.  , 28.  ,\n",
       "        8.  , 19.  , 40.  , 66.  , 42.  , 21.  , 18.  ,  3.  ,  7.  ,\n",
       "       49.  , 29.  , 65.  , 28.5 ,  5.  , 11.  , 45.  , 17.  , 32.  ,\n",
       "       16.  , 25.  ,  0.83, 30.  , 33.  , 23.  , 24.  , 46.  , 59.  ,\n",
       "       71.  , 37.  , 47.  , 14.5 , 70.5 , 32.5 , 12.  ,  9.  , 36.5 ,\n",
       "       51.  , 55.5 , 40.5 , 44.  ,  1.  , 61.  , 56.  , 50.  , 36.  ,\n",
       "       45.5 , 20.5 , 62.  , 41.  , 52.  , 63.  , 23.5 ,  0.92, 43.  ,\n",
       "       60.  , 10.  , 64.  , 13.  , 48.  ,  0.75, 53.  , 57.  , 80.  ,\n",
       "       70.  , 24.5 ,  6.  ,  0.67, 30.5 ,  0.42, 34.5 , 74.  ])"
      ]
     },
     "execution_count": 16,
     "metadata": {},
     "output_type": "execute_result"
    }
   ],
   "source": [
    "df_train.Age.unique()"
   ]
  },
  {
   "cell_type": "code",
   "execution_count": 17,
   "id": "cbe890af-62fe-436e-9cf3-ab718ced45f1",
   "metadata": {},
   "outputs": [
    {
     "data": {
      "text/plain": [
       "array([34.5 , 47.  , 62.  , 27.  , 22.  , 14.  , 30.  , 26.  , 18.  ,\n",
       "       21.  ,   nan, 46.  , 23.  , 63.  , 24.  , 35.  , 45.  , 55.  ,\n",
       "        9.  , 48.  , 50.  , 22.5 , 41.  , 33.  , 18.5 , 25.  , 39.  ,\n",
       "       60.  , 36.  , 20.  , 28.  , 10.  , 17.  , 32.  , 13.  , 31.  ,\n",
       "       29.  , 28.5 , 32.5 ,  6.  , 67.  , 49.  ,  2.  , 76.  , 43.  ,\n",
       "       16.  ,  1.  , 12.  , 42.  , 53.  , 26.5 , 40.  , 61.  , 60.5 ,\n",
       "        7.  , 15.  , 54.  , 64.  , 37.  , 34.  , 11.5 ,  8.  ,  0.33,\n",
       "       38.  , 57.  , 40.5 ,  0.92, 19.  , 36.5 ,  0.75,  0.83, 58.  ,\n",
       "        0.17, 59.  , 14.5 , 44.  ,  5.  , 51.  ,  3.  , 38.5 ])"
      ]
     },
     "execution_count": 17,
     "metadata": {},
     "output_type": "execute_result"
    }
   ],
   "source": [
    "df_test.Age.unique()"
   ]
  },
  {
   "cell_type": "markdown",
   "id": "cda81876-2a42-4d02-ae2f-6d51027aa318",
   "metadata": {},
   "source": [
    "First, let's see nan"
   ]
  },
  {
   "cell_type": "code",
   "execution_count": 18,
   "id": "ec016aee-3418-4551-9fc2-91229608a8a1",
   "metadata": {},
   "outputs": [
    {
     "name": "stdout",
     "output_type": "stream",
     "text": [
      "There is 177 rows without age in the train dataframe\n",
      "There is 86 rows without age in the test dataframe\n"
     ]
    }
   ],
   "source": [
    "print(\"There is {} rows without age in the train dataframe\".format(df_train.Age.isna().sum()))\n",
    "print(\"There is {} rows without age in the test dataframe\".format(df_test.Age.isna().sum()))"
   ]
  },
  {
   "cell_type": "markdown",
   "id": "f9181da9-6d2a-42de-8ca1-3e3c7f787af8",
   "metadata": {},
   "source": [
    "Second, let's see the number of passenger with estimated age"
   ]
  },
  {
   "cell_type": "code",
   "execution_count": 19,
   "id": "68d04008-bffb-4ff4-b983-aa20ba805526",
   "metadata": {},
   "outputs": [
    {
     "name": "stdout",
     "output_type": "stream",
     "text": [
      "There is 18 rows with estimated age in the train dataframe\n",
      "There is 15 rows with estimated age in the test dataframe\n"
     ]
    }
   ],
   "source": [
    "print(\"There is {} rows with estimated age in the train dataframe\".format(df_train[df_train.Age.notna()].Age.apply(lambda x: (x - int(x)) == 0.5).sum()))\n",
    "print(\"There is {} rows with estimated age in the test dataframe\".format(df_test[df_test.Age.notna()].Age.apply(lambda x: (x - int(x)) == 0.5).sum()))"
   ]
  },
  {
   "cell_type": "markdown",
   "id": "1cc41a8e-01cd-4dbd-8b85-743d73382624",
   "metadata": {},
   "source": [
    "For the moment, we will estimated missing value by the mean of the value which are present in the dataframe"
   ]
  },
  {
   "cell_type": "code",
   "execution_count": 20,
   "id": "dd7c6bbe-31f5-4f10-b662-d36ac4b9588e",
   "metadata": {},
   "outputs": [],
   "source": [
    "mean_age = df_train[\n",
    "    (df_train.Age.notna()) & \n",
    "    (df_train[df_train.Age.notna()].Age.apply(lambda x: (x - int(x)) != 0.5))\n",
    "].Age.mean()\n",
    "\n",
    "df_train.Age = df_train.Age.fillna(mean_age)\n",
    "df_test.Age = df_test.Age.fillna(mean_age)"
   ]
  },
  {
   "cell_type": "markdown",
   "id": "b73e3551-5ba5-4564-9ea2-a87279754336",
   "metadata": {},
   "source": [
    "Let's see if age is Gaussian"
   ]
  },
  {
   "cell_type": "code",
   "execution_count": 21,
   "id": "c865e234-8060-40a2-b0a2-46a217d0c96f",
   "metadata": {
    "scrolled": true,
    "tags": []
   },
   "outputs": [
    {
     "name": "stdout",
     "output_type": "stream",
     "text": [
      "Shapiro: 3.3682851717883227e-15\n",
      "Normal test: 1.9732930746087148e-10\n",
      "Kstest: 0.0\n",
      "Anderson: AndersonResult(statistic=15.460820154545672, critical_values=array([0.573, 0.653, 0.784, 0.914, 1.087]), significance_level=array([15. , 10. ,  5. ,  2.5,  1. ]))\n"
     ]
    },
    {
     "data": {
      "image/png": "[encoded data removed]",
      "text/plain": [
       "<Figure size 432x288 with 1 Axes>"
      ]
     },
     "metadata": {
      "needs_background": "light"
     },
     "output_type": "display_data"
    },
    {
     "data": {
      "image/png": "[encoded data removed]",
      "text/plain": [
       "<Figure size 432x288 with 1 Axes>"
      ]
     },
     "metadata": {
      "needs_background": "light"
     },
     "output_type": "display_data"
    }
   ],
   "source": [
    "test_normality(data=df_train.Age, bins=20)"
   ]
  },
  {
   "cell_type": "code",
   "execution_count": 22,
   "id": "61f739af-0518-4386-a23f-968551daac5f",
   "metadata": {
    "scrolled": true,
    "tags": []
   },
   "outputs": [
    {
     "name": "stdout",
     "output_type": "stream",
     "text": [
      "Shapiro: 2.8109001806936665e-14\n",
      "Normal test: 0.00029516003478597557\n",
      "Kstest: 0.0\n",
      "Anderson: AndersonResult(statistic=14.713819163754351, critical_values=array([0.573, 0.653, 0.784, 0.914, 1.087]), significance_level=array([15. , 10. ,  5. ,  2.5,  1. ]))\n"
     ]
    },
    {
     "data": {
      "image/png": "[encoded data removed]",
      "text/plain": [
       "<Figure size 432x288 with 1 Axes>"
      ]
     },
     "metadata": {
      "needs_background": "light"
     },
     "output_type": "display_data"
    },
    {
     "data": {
      "image/png": "[encoded data removed]",
      "text/plain": [
       "<Figure size 432x288 with 1 Axes>"
      ]
     },
     "metadata": {
      "needs_background": "light"
     },
     "output_type": "display_data"
    }
   ],
   "source": [
    "from scipy.stats import yeojohnson\n",
    "\n",
    "Age = df_train.Age\n",
    "Age, _ = yeojohnson(Age)\n",
    "test_normality(Age, bins=20)"
   ]
  },
  {
   "cell_type": "code",
   "execution_count": 23,
   "id": "eb34e684-c281-4cd9-8282-85c3066780e3",
   "metadata": {
    "scrolled": true,
    "tags": []
   },
   "outputs": [
    {
     "name": "stdout",
     "output_type": "stream",
     "text": [
      "Shapiro: 2.470032269268497e-14\n",
      "Normal test: 0.00027368684886368847\n",
      "Kstest: 0.0\n",
      "Anderson: AndersonResult(statistic=14.818679166332231, critical_values=array([0.573, 0.653, 0.784, 0.914, 1.087]), significance_level=array([15. , 10. ,  5. ,  2.5,  1. ]))\n"
     ]
    },
    {
     "data": {
      "image/png": "[encoded data removed]",
      "text/plain": [
       "<Figure size 432x288 with 1 Axes>"
      ]
     },
     "metadata": {
      "needs_background": "light"
     },
     "output_type": "display_data"
    },
    {
     "data": {
      "image/png": "[encoded data removed]",
      "text/plain": [
       "<Figure size 432x288 with 1 Axes>"
      ]
     },
     "metadata": {
      "needs_background": "light"
     },
     "output_type": "display_data"
    }
   ],
   "source": [
    "from scipy.stats import boxcox\n",
    "\n",
    "Age = df_train.Age\n",
    "Age, _ = boxcox(Age)\n",
    "test_normality(data=Age, bins=20)"
   ]
  },
  {
   "cell_type": "code",
   "execution_count": 24,
   "id": "53e52e6f-c649-46fa-b5c7-36e2e07ea606",
   "metadata": {
    "scrolled": true,
    "tags": []
   },
   "outputs": [
    {
     "name": "stdout",
     "output_type": "stream",
     "text": [
      "Shapiro: 8.793059943347558e-33\n",
      "Normal test: 9.798185984126646e-94\n",
      "Kstest: 0.0\n",
      "Anderson: AndersonResult(statistic=54.22371756134146, critical_values=array([0.573, 0.653, 0.784, 0.914, 1.087]), significance_level=array([15. , 10. ,  5. ,  2.5,  1. ]))\n"
     ]
    },
    {
     "data": {
      "image/png": "[encoded data removed]",
      "text/plain": [
       "<Figure size 432x288 with 1 Axes>"
      ]
     },
     "metadata": {
      "needs_background": "light"
     },
     "output_type": "display_data"
    },
    {
     "data": {
      "image/png": "[encoded data removed]",
      "text/plain": [
       "<Figure size 432x288 with 1 Axes>"
      ]
     },
     "metadata": {
      "needs_background": "light"
     },
     "output_type": "display_data"
    }
   ],
   "source": [
    "Age = df_train.Age.apply(lambda age: np.log(age+1))\n",
    "test_normality(data=Age, bins=20)"
   ]
  },
  {
   "cell_type": "code",
   "execution_count": 25,
   "id": "e5524e19-a334-4278-943d-a19b89def79c",
   "metadata": {
    "scrolled": true,
    "tags": []
   },
   "outputs": [
    {
     "name": "stdout",
     "output_type": "stream",
     "text": [
      "Shapiro: 3.063845646506017e-20\n",
      "Normal test: 4.272014597898145e-27\n",
      "Kstest: 0.0\n",
      "Anderson: AndersonResult(statistic=21.790806916044176, critical_values=array([0.573, 0.653, 0.784, 0.914, 1.087]), significance_level=array([15. , 10. ,  5. ,  2.5,  1. ]))\n"
     ]
    },
    {
     "data": {
      "image/png": "[encoded data removed]",
      "text/plain": [
       "<Figure size 432x288 with 1 Axes>"
      ]
     },
     "metadata": {
      "needs_background": "light"
     },
     "output_type": "display_data"
    },
    {
     "data": {
      "image/png": "[encoded data removed]",
      "text/plain": [
       "<Figure size 432x288 with 1 Axes>"
      ]
     },
     "metadata": {
      "needs_background": "light"
     },
     "output_type": "display_data"
    }
   ],
   "source": [
    "Age = df_train.Age.apply(lambda age: np.sqrt(age))\n",
    "test_normality(data=Age, bins=20)"
   ]
  },
  {
   "cell_type": "markdown",
   "id": "27cc88a9-cd18-4fb5-bf10-204ba5e21c32",
   "metadata": {},
   "source": [
    "We will use yeojohnson transformation to make Age Gaussian-like"
   ]
  },
  {
   "cell_type": "code",
   "execution_count": 26,
   "id": "1c87d06a-0aa8-432c-829b-78a2fb9d480b",
   "metadata": {},
   "outputs": [],
   "source": [
    "Age = df_train.Age\n",
    "Age, lmbda = yeojohnson(Age)\n",
    "mean_age = np.mean(Age)\n",
    "std_age = np.std(Age)\n",
    "df_train.Age = (Age - mean_age) / std_age"
   ]
  },
  {
   "cell_type": "code",
   "execution_count": 27,
   "id": "3dda52af-c5a7-436e-896b-bbce91a79731",
   "metadata": {},
   "outputs": [],
   "source": [
    "Age = df_test.Age\n",
    "Age = yeojohnson(Age, lmbda=lmbda)\n",
    "df_test.Age = (Age - mean_age) / std_age"
   ]
  },
  {
   "cell_type": "markdown",
   "id": "945356c2-013c-4daf-ba97-955bdbbfcfb4",
   "metadata": {
    "jp-MarkdownHeadingCollapsed": true,
    "tags": []
   },
   "source": [
    "## 2.6. SibSp"
   ]
  },
  {
   "cell_type": "code",
   "execution_count": 28,
   "id": "e967155e-f42e-4399-bbe4-ae11cf16502f",
   "metadata": {},
   "outputs": [
    {
     "data": {
      "text/plain": [
       "[0, 1, 2, 3, 4, 5, 8]"
      ]
     },
     "execution_count": 28,
     "metadata": {},
     "output_type": "execute_result"
    }
   ],
   "source": [
    "sorted(df_train.SibSp.unique())"
   ]
  },
  {
   "cell_type": "code",
   "execution_count": 29,
   "id": "73f730ca-a803-497f-afb6-c2993050e370",
   "metadata": {},
   "outputs": [
    {
     "data": {
      "text/plain": [
       "[0, 1, 2, 3, 4, 5, 8]"
      ]
     },
     "execution_count": 29,
     "metadata": {},
     "output_type": "execute_result"
    }
   ],
   "source": [
    "sorted(df_test.SibSp.unique())"
   ]
  },
  {
   "cell_type": "markdown",
   "id": "e10736e0-a9ee-4622-a2bc-41ef48034718",
   "metadata": {},
   "source": [
    "Let's create other features from SibSp"
   ]
  },
  {
   "cell_type": "code",
   "execution_count": 30,
   "id": "a0279000-c3cf-41e6-9d22-e074929cb724",
   "metadata": {},
   "outputs": [],
   "source": [
    "df_train = df_train.merge(\n",
    "    pd.get_dummies(df_train[[\"SibSp\"]], columns=[\"SibSp\"]),\n",
    "    left_index=True,\n",
    "    right_index=True\n",
    ")\n",
    "df_test = df_test.merge(\n",
    "    pd.get_dummies(df_test[[\"SibSp\"]], columns=[\"SibSp\"]),\n",
    "    left_index=True,\n",
    "    right_index=True\n",
    ")"
   ]
  },
  {
   "cell_type": "code",
   "execution_count": 31,
   "id": "a1d5b403-c2e4-4423-92d2-dfc6048db60e",
   "metadata": {},
   "outputs": [],
   "source": [
    "for nb_SibSp in [1, 2, 3, 4, 5, 8]:\n",
    "    df_train[\"Has_at_least_\" + str(nb_SibSp) + \"_SibSp_onboard\"] = df_train.SibSp.apply(lambda SibSp: 1 if SibSp >= nb_SibSp else 0)\n",
    "    df_test[\"Has_at_least_\" + str(nb_SibSp) + \"_SibSp_onboard\"] = df_test.SibSp.apply(lambda SibSp: 1 if SibSp >= nb_SibSp else 0)"
   ]
  },
  {
   "cell_type": "markdown",
   "id": "b416a3a0-92d1-4ba8-8487-74c198b87299",
   "metadata": {},
   "source": [
    "Let's check if SibSp is Gaussian"
   ]
  },
  {
   "cell_type": "code",
   "execution_count": 32,
   "id": "c2596d41-544c-4ca5-be78-e74ee71cd6a2",
   "metadata": {
    "scrolled": true,
    "tags": []
   },
   "outputs": [
    {
     "name": "stdout",
     "output_type": "stream",
     "text": [
      "Shapiro: 5.74532370373175e-44\n",
      "Normal test: 1.0712617667710052e-157\n",
      "Kstest: 1.6792880627181903e-206\n",
      "Anderson: AndersonResult(statistic=147.36454099049797, critical_values=array([0.573, 0.653, 0.784, 0.914, 1.087]), significance_level=array([15. , 10. ,  5. ,  2.5,  1. ]))\n"
     ]
    },
    {
     "data": {
      "image/png": "[encoded data removed]",
      "text/plain": [
       "<Figure size 432x288 with 1 Axes>"
      ]
     },
     "metadata": {
      "needs_background": "light"
     },
     "output_type": "display_data"
    },
    {
     "data": {
      "image/png": "[encoded data removed]",
      "text/plain": [
       "<Figure size 432x288 with 1 Axes>"
      ]
     },
     "metadata": {
      "needs_background": "light"
     },
     "output_type": "display_data"
    }
   ],
   "source": [
    "test_normality(data=df_train.SibSp, bins=20)"
   ]
  },
  {
   "cell_type": "code",
   "execution_count": 33,
   "id": "90cadccb-fa17-4fdf-811d-00a417bda882",
   "metadata": {
    "scrolled": true,
    "tags": []
   },
   "outputs": [
    {
     "name": "stdout",
     "output_type": "stream",
     "text": [
      "Shapiro: 1.5790812004937066e-40\n",
      "Normal test: 0.0\n",
      "Kstest: 1.6792880627181903e-206\n",
      "Anderson: AndersonResult(statistic=176.9843715644688, critical_values=array([0.573, 0.653, 0.784, 0.914, 1.087]), significance_level=array([15. , 10. ,  5. ,  2.5,  1. ]))\n"
     ]
    },
    {
     "data": {
      "image/png": "[encoded data removed]",
      "text/plain": [
       "<Figure size 432x288 with 1 Axes>"
      ]
     },
     "metadata": {
      "needs_background": "light"
     },
     "output_type": "display_data"
    },
    {
     "data": {
      "image/png": "[encoded data removed]",
      "text/plain": [
       "<Figure size 432x288 with 1 Axes>"
      ]
     },
     "metadata": {
      "needs_background": "light"
     },
     "output_type": "display_data"
    }
   ],
   "source": [
    "from scipy.stats import yeojohnson\n",
    "\n",
    "SibSp = df_train.SibSp\n",
    "SibSp, _ = yeojohnson(SibSp)\n",
    "test_normality(SibSp, bins=20)"
   ]
  },
  {
   "cell_type": "code",
   "execution_count": 34,
   "id": "39f9d4b2-073e-4794-8518-017057e64c87",
   "metadata": {
    "scrolled": true,
    "tags": []
   },
   "outputs": [
    {
     "name": "stdout",
     "output_type": "stream",
     "text": [
      "Shapiro: 2.1474898965777822e-41\n",
      "Normal test: 0.0\n",
      "Kstest: 0.0\n",
      "Anderson: AndersonResult(statistic=186.72833958038177, critical_values=array([0.573, 0.653, 0.784, 0.914, 1.087]), significance_level=array([15. , 10. ,  5. ,  2.5,  1. ]))\n"
     ]
    },
    {
     "data": {
      "image/png": "[encoded data removed]",
      "text/plain": [
       "<Figure size 432x288 with 1 Axes>"
      ]
     },
     "metadata": {
      "needs_background": "light"
     },
     "output_type": "display_data"
    },
    {
     "data": {
      "image/png": "[encoded data removed]",
      "text/plain": [
       "<Figure size 432x288 with 1 Axes>"
      ]
     },
     "metadata": {
      "needs_background": "light"
     },
     "output_type": "display_data"
    }
   ],
   "source": [
    "from scipy.stats import boxcox\n",
    "\n",
    "SibSp = df_train.SibSp.apply(lambda SibSp: SibSp + 1e-5)\n",
    "SibSp, _ = boxcox(SibSp)\n",
    "test_normality(data=SibSp, bins=20)"
   ]
  },
  {
   "cell_type": "code",
   "execution_count": 35,
   "id": "aebf4e59-029f-4679-8ea2-dc443a730a8a",
   "metadata": {
    "scrolled": true,
    "tags": []
   },
   "outputs": [
    {
     "name": "stdout",
     "output_type": "stream",
     "text": [
      "Shapiro: 2.0448153567982385e-39\n",
      "Normal test: 1.215569971058545e-59\n",
      "Kstest: 1.6792880627181903e-206\n",
      "Anderson: AndersonResult(statistic=141.20045398623438, critical_values=array([0.573, 0.653, 0.784, 0.914, 1.087]), significance_level=array([15. , 10. ,  5. ,  2.5,  1. ]))\n"
     ]
    },
    {
     "data": {
      "image/png": "[encoded data removed]",
      "text/plain": [
       "<Figure size 432x288 with 1 Axes>"
      ]
     },
     "metadata": {
      "needs_background": "light"
     },
     "output_type": "display_data"
    },
    {
     "data": {
      "image/png": "[encoded data removed]",
      "text/plain": [
       "<Figure size 432x288 with 1 Axes>"
      ]
     },
     "metadata": {
      "needs_background": "light"
     },
     "output_type": "display_data"
    }
   ],
   "source": [
    "SibSp = df_train.SibSp.apply(lambda SibSp: np.log(SibSp+1))\n",
    "test_normality(data=SibSp, bins=20)"
   ]
  },
  {
   "cell_type": "code",
   "execution_count": 36,
   "id": "d8099466-0aed-45e8-86a5-b9cb8b5aef08",
   "metadata": {
    "scrolled": true,
    "tags": []
   },
   "outputs": [
    {
     "name": "stdout",
     "output_type": "stream",
     "text": [
      "Shapiro: 4.4636793126787004e-39\n",
      "Normal test: 2.1897734858361868e-46\n",
      "Kstest: 1.6792880627181903e-206\n",
      "Anderson: AndersonResult(statistic=145.25871698526862, critical_values=array([0.573, 0.653, 0.784, 0.914, 1.087]), significance_level=array([15. , 10. ,  5. ,  2.5,  1. ]))\n"
     ]
    },
    {
     "data": {
      "image/png": "[encoded data removed]",
      "text/plain": [
       "<Figure size 432x288 with 1 Axes>"
      ]
     },
     "metadata": {
      "needs_background": "light"
     },
     "output_type": "display_data"
    },
    {
     "data": {
      "image/png": "[encoded data removed]",
      "text/plain": [
       "<Figure size 432x288 with 1 Axes>"
      ]
     },
     "metadata": {
      "needs_background": "light"
     },
     "output_type": "display_data"
    }
   ],
   "source": [
    "SibSp = df_train.SibSp.apply(lambda SibSp: np.sqrt(SibSp))\n",
    "test_normality(data=SibSp, bins=20)"
   ]
  },
  {
   "cell_type": "code",
   "execution_count": 37,
   "id": "e5683464-567c-4d0a-b20f-98f19a56f260",
   "metadata": {},
   "outputs": [],
   "source": [
    "SibSp = df_train.SibSp.apply(lambda SibSp: np.sqrt(SibSp))\n",
    "mean_sibsp = SibSp.mean()\n",
    "std_sibsp = SibSp.std()\n",
    "df_train.SibSp = SibSp.apply(lambda sibsp: (sibsp - mean_sibsp) / std_sibsp)"
   ]
  },
  {
   "cell_type": "code",
   "execution_count": 38,
   "id": "807c6ec8-5e71-4bd0-a684-5be55a1b32eb",
   "metadata": {},
   "outputs": [],
   "source": [
    "SibSp = df_test.SibSp.apply(lambda SibSp: np.sqrt(SibSp))\n",
    "df_test.SibSp = SibSp.apply(lambda sibsp: (sibsp - mean_sibsp) / std_sibsp)"
   ]
  },
  {
   "cell_type": "markdown",
   "id": "c762468b-bb78-4045-971c-de132c3d319e",
   "metadata": {
    "jp-MarkdownHeadingCollapsed": true,
    "tags": []
   },
   "source": [
    "## 2.7. Parch"
   ]
  },
  {
   "cell_type": "markdown",
   "id": "7afbf73b-3370-48e6-8ee7-6f4c7588d7b5",
   "metadata": {},
   "source": [
    "Parch is the number of parents / children aboard the Titanic"
   ]
  },
  {
   "cell_type": "code",
   "execution_count": 39,
   "id": "4a0d7fdc-28db-4a2e-9214-837b47e2353c",
   "metadata": {},
   "outputs": [
    {
     "data": {
      "text/plain": [
       "[0, 1, 2, 3, 4, 5, 6]"
      ]
     },
     "execution_count": 39,
     "metadata": {},
     "output_type": "execute_result"
    }
   ],
   "source": [
    "sorted(df_train.Parch.unique())"
   ]
  },
  {
   "cell_type": "code",
   "execution_count": 40,
   "id": "e0ffb562-7e19-4239-9881-10e0bee4fb52",
   "metadata": {},
   "outputs": [
    {
     "data": {
      "text/plain": [
       "[0, 1, 2, 3, 4, 5, 6, 9]"
      ]
     },
     "execution_count": 40,
     "metadata": {},
     "output_type": "execute_result"
    }
   ],
   "source": [
    "sorted(df_test.Parch.unique())"
   ]
  },
  {
   "cell_type": "code",
   "execution_count": 41,
   "id": "512396d4-acdf-4333-9751-ba762ccd7b1c",
   "metadata": {},
   "outputs": [],
   "source": [
    "df_train = df_train.merge(\n",
    "    pd.get_dummies(df_train[[\"Parch\"]], columns=[\"Parch\"]),\n",
    "    left_index=True,\n",
    "    right_index=True\n",
    ")\n",
    "df_test = df_test.merge(\n",
    "    pd.get_dummies(df_test[[\"Parch\"]], columns=[\"Parch\"]),\n",
    "    left_index=True,\n",
    "    right_index=True\n",
    ")"
   ]
  },
  {
   "cell_type": "code",
   "execution_count": 42,
   "id": "99b99d04-829d-4857-a2ee-09edfec41075",
   "metadata": {},
   "outputs": [],
   "source": [
    "for nb_Parch in [1, 2, 3, 4, 5, 6]:\n",
    "    df_train[\"Has_at_least_\" + str(nb_Parch) + \"_Parch_onboard\"] = df_train.Parch.apply(lambda Parch: 1 if Parch >= Parch else 0)\n",
    "    df_test[\"Has_at_least_\" + str(nb_Parch) + \"_Parch_onboard\"] = df_test.Parch.apply(lambda Parch: 1 if Parch >= Parch else 0)"
   ]
  },
  {
   "cell_type": "markdown",
   "id": "4c556973-bde5-4449-b886-e9dab51e40d5",
   "metadata": {},
   "source": [
    "Let's check if Parch is Gaussian"
   ]
  },
  {
   "cell_type": "code",
   "execution_count": 43,
   "id": "0266bd88-8961-4579-ba79-ee5938ced6f7",
   "metadata": {
    "scrolled": true,
    "tags": []
   },
   "outputs": [
    {
     "name": "stdout",
     "output_type": "stream",
     "text": [
      "Shapiro: 2.382207389352189e-43\n",
      "Normal test: 1.2061095353353198e-118\n",
      "Kstest: 1.6792880627181903e-206\n",
      "Anderson: AndersonResult(statistic=175.6588310792729, critical_values=array([0.573, 0.653, 0.784, 0.914, 1.087]), significance_level=array([15. , 10. ,  5. ,  2.5,  1. ]))\n"
     ]
    },
    {
     "data": {
      "image/png": "[encoded data removed]",
      "text/plain": [
       "<Figure size 432x288 with 1 Axes>"
      ]
     },
     "metadata": {
      "needs_background": "light"
     },
     "output_type": "display_data"
    },
    {
     "data": {
      "image/png": "[encoded data removed]",
      "text/plain": [
       "<Figure size 432x288 with 1 Axes>"
      ]
     },
     "metadata": {
      "needs_background": "light"
     },
     "output_type": "display_data"
    }
   ],
   "source": [
    "test_normality(data=df_train.Parch, bins=20)"
   ]
  },
  {
   "cell_type": "code",
   "execution_count": 44,
   "id": "9f3a8a02-fa12-40f6-8dc4-e916299b07a9",
   "metadata": {
    "scrolled": true,
    "tags": []
   },
   "outputs": [
    {
     "name": "stdout",
     "output_type": "stream",
     "text": [
      "Shapiro: 3.2369994525903274e-43\n",
      "Normal test: 1.509390655911863e-35\n",
      "Kstest: 1.6792880627181903e-206\n",
      "Anderson: AndersonResult(statistic=215.03778525684083, critical_values=array([0.573, 0.653, 0.784, 0.914, 1.087]), significance_level=array([15. , 10. ,  5. ,  2.5,  1. ]))\n"
     ]
    },
    {
     "data": {
      "image/png": "[encoded data removed]",
      "text/plain": [
       "<Figure size 432x288 with 1 Axes>"
      ]
     },
     "metadata": {
      "needs_background": "light"
     },
     "output_type": "display_data"
    },
    {
     "data": {
      "image/png": "[encoded data removed]",
      "text/plain": [
       "<Figure size 432x288 with 1 Axes>"
      ]
     },
     "metadata": {
      "needs_background": "light"
     },
     "output_type": "display_data"
    }
   ],
   "source": [
    "from scipy.stats import yeojohnson\n",
    "\n",
    "Parch = df_train.Parch\n",
    "Parch, _ = yeojohnson(Parch)\n",
    "test_normality(Parch, bins=20)"
   ]
  },
  {
   "cell_type": "code",
   "execution_count": 45,
   "id": "149d3078-bc81-4922-8dfd-7547d5816ce8",
   "metadata": {
    "scrolled": true,
    "tags": []
   },
   "outputs": [
    {
     "name": "stdout",
     "output_type": "stream",
     "text": [
      "Shapiro: 1.9337918807682476e-43\n",
      "Normal test: 1.121935625849383e-35\n",
      "Kstest: 0.0\n",
      "Anderson: AndersonResult(statistic=218.0976883796145, critical_values=array([0.573, 0.653, 0.784, 0.914, 1.087]), significance_level=array([15. , 10. ,  5. ,  2.5,  1. ]))\n"
     ]
    },
    {
     "data": {
      "image/png": "[encoded data removed]",
      "text/plain": [
       "<Figure size 432x288 with 1 Axes>"
      ]
     },
     "metadata": {
      "needs_background": "light"
     },
     "output_type": "display_data"
    },
    {
     "data": {
      "image/png": "[encoded data removed]",
      "text/plain": [
       "<Figure size 432x288 with 1 Axes>"
      ]
     },
     "metadata": {
      "needs_background": "light"
     },
     "output_type": "display_data"
    }
   ],
   "source": [
    "from scipy.stats import boxcox\n",
    "\n",
    "Parch = df_train.Parch.apply(lambda Parch: Parch + 1e-5)\n",
    "Parch, _ = boxcox(Parch)\n",
    "test_normality(data=Parch, bins=20)"
   ]
  },
  {
   "cell_type": "code",
   "execution_count": 46,
   "id": "e62a532c-3e73-4960-b278-14a38fbf6036",
   "metadata": {
    "scrolled": true,
    "tags": []
   },
   "outputs": [
    {
     "name": "stdout",
     "output_type": "stream",
     "text": [
      "Shapiro: 6.16991713842217e-42\n",
      "Normal test: 4.427277155229021e-56\n",
      "Kstest: 1.6792880627181903e-206\n",
      "Anderson: AndersonResult(statistic=186.58838641468083, critical_values=array([0.573, 0.653, 0.784, 0.914, 1.087]), significance_level=array([15. , 10. ,  5. ,  2.5,  1. ]))\n"
     ]
    },
    {
     "data": {
      "image/png": "[encoded data removed]",
      "text/plain": [
       "<Figure size 432x288 with 1 Axes>"
      ]
     },
     "metadata": {
      "needs_background": "light"
     },
     "output_type": "display_data"
    },
    {
     "data": {
      "image/png": "[encoded data removed]",
      "text/plain": [
       "<Figure size 432x288 with 1 Axes>"
      ]
     },
     "metadata": {
      "needs_background": "light"
     },
     "output_type": "display_data"
    }
   ],
   "source": [
    "Parch = df_train.Parch.apply(lambda Parch: np.log(Parch+1))\n",
    "test_normality(data=Parch, bins=20)"
   ]
  },
  {
   "cell_type": "code",
   "execution_count": 47,
   "id": "055be82e-9bf1-43bb-b991-2f50d286a277",
   "metadata": {
    "scrolled": true,
    "tags": []
   },
   "outputs": [
    {
     "name": "stdout",
     "output_type": "stream",
     "text": [
      "Shapiro: 6.654766407078556e-42\n",
      "Normal test: 6.498141095141998e-47\n",
      "Kstest: 1.6792880627181903e-206\n",
      "Anderson: AndersonResult(statistic=191.1532109609118, critical_values=array([0.573, 0.653, 0.784, 0.914, 1.087]), significance_level=array([15. , 10. ,  5. ,  2.5,  1. ]))\n"
     ]
    },
    {
     "data": {
      "image/png": "[encoded data removed]",
      "text/plain": [
       "<Figure size 432x288 with 1 Axes>"
      ]
     },
     "metadata": {
      "needs_background": "light"
     },
     "output_type": "display_data"
    },
    {
     "data": {
      "image/png": "[encoded data removed]",
      "text/plain": [
       "<Figure size 432x288 with 1 Axes>"
      ]
     },
     "metadata": {
      "needs_background": "light"
     },
     "output_type": "display_data"
    }
   ],
   "source": [
    "Parch = df_train.Parch.apply(lambda Parch: np.sqrt(Parch))\n",
    "test_normality(data=Parch, bins=20)"
   ]
  },
  {
   "cell_type": "code",
   "execution_count": 48,
   "id": "f85ef87c-8627-4daa-9de5-5771718bd8bb",
   "metadata": {},
   "outputs": [],
   "source": [
    "Parch = df_train.Parch\n",
    "Parch, lmbda = yeojohnson(Parch)\n",
    "mean_parch = np.mean(Parch)\n",
    "std_parch = np.std(Parch)\n",
    "df_train.Parch = (Parch - mean_parch) / std_parch"
   ]
  },
  {
   "cell_type": "code",
   "execution_count": 49,
   "id": "97bca5d2-af5e-4eaf-8379-b85c746c30d8",
   "metadata": {},
   "outputs": [],
   "source": [
    "Parch = df_test.Parch\n",
    "Parch = yeojohnson(Parch, lmbda=lmbda)\n",
    "df_test.Parch = (Parch - mean_parch) / std_parch"
   ]
  },
  {
   "cell_type": "markdown",
   "id": "a7636572-2ce3-4360-bb7c-6b75b89aee96",
   "metadata": {
    "jp-MarkdownHeadingCollapsed": true,
    "tags": []
   },
   "source": [
    "## 2.8. Ticket"
   ]
  },
  {
   "cell_type": "markdown",
   "id": "6268ed38-0d00-4cf7-b10a-3b8f0da086f5",
   "metadata": {},
   "source": [
    "Ticket represent the ticket number"
   ]
  },
  {
   "cell_type": "code",
   "execution_count": 50,
   "id": "9472b073-42ef-4011-bbff-0fe1a9177a18",
   "metadata": {
    "scrolled": true,
    "tags": []
   },
   "outputs": [
    {
     "data": {
      "text/plain": [
       "array(['A/5 21171', 'PC 17599', 'STON/O2. 3101282', '113803', '373450',\n",
       "       '330877', '17463', '349909', '347742', '237736', 'PP 9549',\n",
       "       '113783', 'A/5. 2151', '347082', '350406', '248706', '382652',\n",
       "       '244373', '345763', '2649', '239865', '248698', '330923', '113788',\n",
       "       '347077', '2631', '19950', '330959', '349216', 'PC 17601',\n",
       "       'PC 17569', '335677', 'C.A. 24579', 'PC 17604', '113789', '2677',\n",
       "       'A./5. 2152', '345764', '2651', '7546', '11668', '349253',\n",
       "       'SC/Paris 2123', '330958', 'S.C./A.4. 23567', '370371', '14311',\n",
       "       '2662', '349237', '3101295', 'A/4. 39886', 'PC 17572', '2926',\n",
       "       '113509', '19947', 'C.A. 31026', '2697', 'C.A. 34651', 'CA 2144',\n",
       "       '2669', '113572', '36973', '347088', 'PC 17605', '2661',\n",
       "       'C.A. 29395', 'S.P. 3464', '3101281', '315151', 'C.A. 33111',\n",
       "       'S.O.C. 14879', '2680', '1601', '348123', '349208', '374746',\n",
       "       '248738', '364516', '345767', '345779', '330932', '113059',\n",
       "       'SO/C 14885', '3101278', 'W./C. 6608', 'SOTON/OQ 392086', '343275',\n",
       "       '343276', '347466', 'W.E.P. 5734', 'C.A. 2315', '364500', '374910',\n",
       "       'PC 17754', 'PC 17759', '231919', '244367', '349245', '349215',\n",
       "       '35281', '7540', '3101276', '349207', '343120', '312991', '349249',\n",
       "       '371110', '110465', '2665', '324669', '4136', '2627',\n",
       "       'STON/O 2. 3101294', '370369', 'PC 17558', 'A4. 54510', '27267',\n",
       "       '370372', 'C 17369', '2668', '347061', '349241',\n",
       "       'SOTON/O.Q. 3101307', 'A/5. 3337', '228414', 'C.A. 29178',\n",
       "       'SC/PARIS 2133', '11752', '7534', 'PC 17593', '2678', '347081',\n",
       "       'STON/O2. 3101279', '365222', '231945', 'C.A. 33112', '350043',\n",
       "       '230080', '244310', 'S.O.P. 1166', '113776', 'A.5. 11206',\n",
       "       'A/5. 851', 'Fa 265302', 'PC 17597', '35851', 'SOTON/OQ 392090',\n",
       "       '315037', 'CA. 2343', '371362', 'C.A. 33595', '347068', '315093',\n",
       "       '363291', '113505', 'PC 17318', '111240', 'STON/O 2. 3101280',\n",
       "       '17764', '350404', '4133', 'PC 17595', '250653', 'LINE',\n",
       "       'SC/PARIS 2131', '230136', '315153', '113767', '370365', '111428',\n",
       "       '364849', '349247', '234604', '28424', '350046', 'PC 17610',\n",
       "       '368703', '4579', '370370', '248747', '345770', '3101264', '2628',\n",
       "       'A/5 3540', '347054', '2699', '367231', '112277',\n",
       "       'SOTON/O.Q. 3101311', 'F.C.C. 13528', 'A/5 21174', '250646',\n",
       "       '367229', '35273', 'STON/O2. 3101283', '243847', '11813',\n",
       "       'W/C 14208', 'SOTON/OQ 392089', '220367', '21440', '349234',\n",
       "       '19943', 'PP 4348', 'SW/PP 751', 'A/5 21173', '236171', '347067',\n",
       "       '237442', 'C.A. 29566', 'W./C. 6609', '26707', 'C.A. 31921',\n",
       "       '28665', 'SCO/W 1585', '367230', 'W./C. 14263',\n",
       "       'STON/O 2. 3101275', '2694', '19928', '347071', '250649', '11751',\n",
       "       '244252', '362316', '113514', 'A/5. 3336', '370129', '2650',\n",
       "       'PC 17585', '110152', 'PC 17755', '230433', '384461', '110413',\n",
       "       '112059', '382649', 'C.A. 17248', '347083', 'PC 17582', 'PC 17760',\n",
       "       '113798', '250644', 'PC 17596', '370375', '13502', '347073',\n",
       "       '239853', 'C.A. 2673', '336439', '347464', '345778', 'A/5. 10482',\n",
       "       '113056', '349239', '345774', '349206', '237798', '370373',\n",
       "       '19877', '11967', 'SC/Paris 2163', '349236', '349233', 'PC 17612',\n",
       "       '2693', '113781', '19988', '9234', '367226', '226593', 'A/5 2466',\n",
       "       '17421', 'PC 17758', 'P/PP 3381', 'PC 17485', '11767', 'PC 17608',\n",
       "       '250651', '349243', 'F.C.C. 13529', '347470', '29011', '36928',\n",
       "       '16966', 'A/5 21172', '349219', '234818', '345364', '28551',\n",
       "       '111361', '113043', 'PC 17611', '349225', '7598', '113784',\n",
       "       '248740', '244361', '229236', '248733', '31418', '386525',\n",
       "       'C.A. 37671', '315088', '7267', '113510', '2695', '2647', '345783',\n",
       "       '237671', '330931', '330980', 'SC/PARIS 2167', '2691',\n",
       "       'SOTON/O.Q. 3101310', 'C 7076', '110813', '2626', '14313',\n",
       "       'PC 17477', '11765', '3101267', '323951', 'C 7077', '113503',\n",
       "       '2648', '347069', 'PC 17757', '2653', 'STON/O 2. 3101293',\n",
       "       '349227', '27849', '367655', 'SC 1748', '113760', '350034',\n",
       "       '3101277', '350052', '350407', '28403', '244278', '240929',\n",
       "       'STON/O 2. 3101289', '341826', '4137', '315096', '28664', '347064',\n",
       "       '29106', '312992', '349222', '394140', 'STON/O 2. 3101269',\n",
       "       '343095', '28220', '250652', '28228', '345773', '349254',\n",
       "       'A/5. 13032', '315082', '347080', 'A/4. 34244', '2003', '250655',\n",
       "       '364851', 'SOTON/O.Q. 392078', '110564', '376564', 'SC/AH 3085',\n",
       "       'STON/O 2. 3101274', '13507', 'C.A. 18723', '345769', '347076',\n",
       "       '230434', '65306', '33638', '113794', '2666', '113786', '65303',\n",
       "       '113051', '17453', 'A/5 2817', '349240', '13509', '17464',\n",
       "       'F.C.C. 13531', '371060', '19952', '364506', '111320', '234360',\n",
       "       'A/S 2816', 'SOTON/O.Q. 3101306', '113792', '36209', '323592',\n",
       "       '315089', 'SC/AH Basle 541', '7553', '31027', '3460', '350060',\n",
       "       '3101298', '239854', 'A/5 3594', '4134', '11771', 'A.5. 18509',\n",
       "       '65304', 'SOTON/OQ 3101317', '113787', 'PC 17609', 'A/4 45380',\n",
       "       '36947', 'C.A. 6212', '350035', '315086', '364846', '330909',\n",
       "       '4135', '26360', '111427', 'C 4001', '382651', 'SOTON/OQ 3101316',\n",
       "       'PC 17473', 'PC 17603', '349209', '36967', 'C.A. 34260', '226875',\n",
       "       '349242', '12749', '349252', '2624', '2700', '367232',\n",
       "       'W./C. 14258', 'PC 17483', '3101296', '29104', '2641', '2690',\n",
       "       '315084', '113050', 'PC 17761', '364498', '13568', 'WE/P 5735',\n",
       "       '2908', '693', 'SC/PARIS 2146', '244358', '330979', '2620',\n",
       "       '347085', '113807', '11755', '345572', '372622', '349251',\n",
       "       '218629', 'SOTON/OQ 392082', 'SOTON/O.Q. 392087', 'A/4 48871',\n",
       "       '349205', '2686', '350417', 'S.W./PP 752', '11769', 'PC 17474',\n",
       "       '14312', 'A/4. 20589', '358585', '243880', '2689',\n",
       "       'STON/O 2. 3101286', '237789', '13049', '3411', '237565', '13567',\n",
       "       '14973', 'A./5. 3235', 'STON/O 2. 3101273', 'A/5 3902', '364848',\n",
       "       'SC/AH 29037', '248727', '2664', '349214', '113796', '364511',\n",
       "       '111426', '349910', '349246', '113804', 'SOTON/O.Q. 3101305',\n",
       "       '370377', '364512', '220845', '31028', '2659', '11753', '350029',\n",
       "       '54636', '36963', '219533', '349224', '334912', '27042', '347743',\n",
       "       '13214', '112052', '237668', 'STON/O 2. 3101292', '350050',\n",
       "       '349231', '13213', 'S.O./P.P. 751', 'CA. 2314', '349221', '8475',\n",
       "       '330919', '365226', '349223', '29751', '2623', '5727', '349210',\n",
       "       'STON/O 2. 3101285', '234686', '312993', 'A/5 3536', '19996',\n",
       "       '29750', 'F.C. 12750', 'C.A. 24580', '244270', '239856', '349912',\n",
       "       '342826', '4138', '330935', '6563', '349228', '350036', '24160',\n",
       "       '17474', '349256', '2672', '113800', '248731', '363592', '35852',\n",
       "       '348121', 'PC 17475', '36864', '350025', '223596', 'PC 17476',\n",
       "       'PC 17482', '113028', '7545', '250647', '348124', '34218', '36568',\n",
       "       '347062', '350048', '12233', '250643', '113806', '315094', '36866',\n",
       "       '236853', 'STON/O2. 3101271', '239855', '28425', '233639',\n",
       "       '349201', '349218', '16988', '376566', 'STON/O 2. 3101288',\n",
       "       '250648', '113773', '335097', '29103', '392096', '345780',\n",
       "       '349204', '350042', '29108', '363294', 'SOTON/O2 3101272', '2663',\n",
       "       '347074', '112379', '364850', '8471', '345781', '350047',\n",
       "       'S.O./P.P. 3', '2674', '29105', '347078', '383121', '36865',\n",
       "       '2687', '113501', 'W./C. 6607', 'SOTON/O.Q. 3101312', '374887',\n",
       "       '3101265', '12460', 'PC 17600', '349203', '28213', '17465',\n",
       "       '349244', '2685', '2625', '347089', '347063', '112050', '347087',\n",
       "       '248723', '3474', '28206', '364499', '112058', 'STON/O2. 3101290',\n",
       "       'S.C./PARIS 2079', 'C 7075', '315098', '19972', '368323', '367228',\n",
       "       '2671', '347468', '2223', 'PC 17756', '315097', '392092', '11774',\n",
       "       'SOTON/O2 3101287', '2683', '315090', 'C.A. 5547', '349213',\n",
       "       '347060', 'PC 17592', '392091', '113055', '2629', '350026',\n",
       "       '28134', '17466', '233866', '236852', 'SC/PARIS 2149', 'PC 17590',\n",
       "       '345777', '349248', '695', '345765', '2667', '349212', '349217',\n",
       "       '349257', '7552', 'C.A./SOTON 34068', 'SOTON/OQ 392076', '211536',\n",
       "       '112053', '111369', '370376'], dtype=object)"
      ]
     },
     "execution_count": 50,
     "metadata": {},
     "output_type": "execute_result"
    }
   ],
   "source": [
    "df_train.Ticket.unique()"
   ]
  },
  {
   "cell_type": "markdown",
   "id": "b09d4e9c-96f7-4906-a67e-368c9c1ad8cc",
   "metadata": {},
   "source": [
    "Ticket does not seem to bring information so let's drop it"
   ]
  },
  {
   "cell_type": "code",
   "execution_count": 51,
   "id": "5f076958-3e69-4b9e-b135-78f52da35ce2",
   "metadata": {},
   "outputs": [],
   "source": [
    "df_train.drop(labels=[\"Ticket\"], axis=1, inplace=True)\n",
    "df_test.drop(labels=[\"Ticket\"], axis=1, inplace=True)"
   ]
  },
  {
   "cell_type": "markdown",
   "id": "f0f74b05-ecb4-4fc0-aad3-c6e329311abe",
   "metadata": {
    "jp-MarkdownHeadingCollapsed": true,
    "tags": []
   },
   "source": [
    "## 2.9. Fare"
   ]
  },
  {
   "cell_type": "markdown",
   "id": "d596e942-d38f-48d2-b7cd-9a0604d804ef",
   "metadata": {},
   "source": [
    "Fare report the fare of the ticket"
   ]
  },
  {
   "cell_type": "code",
   "execution_count": 52,
   "id": "d334baf2-7e71-4f19-ba46-659eab4fd8d7",
   "metadata": {
    "scrolled": true,
    "tags": []
   },
   "outputs": [
    {
     "data": {
      "text/plain": [
       "array([  7.25  ,  71.2833,   7.925 ,  53.1   ,   8.05  ,   8.4583,\n",
       "        51.8625,  21.075 ,  11.1333,  30.0708,  16.7   ,  26.55  ,\n",
       "        31.275 ,   7.8542,  16.    ,  29.125 ,  13.    ,  18.    ,\n",
       "         7.225 ,  26.    ,   8.0292,  35.5   ,  31.3875, 263.    ,\n",
       "         7.8792,   7.8958,  27.7208, 146.5208,   7.75  ,  10.5   ,\n",
       "        82.1708,  52.    ,   7.2292,  11.2417,   9.475 ,  21.    ,\n",
       "        41.5792,  15.5   ,  21.6792,  17.8   ,  39.6875,   7.8   ,\n",
       "        76.7292,  61.9792,  27.75  ,  46.9   ,  80.    ,  83.475 ,\n",
       "        27.9   ,  15.2458,   8.1583,   8.6625,  73.5   ,  14.4542,\n",
       "        56.4958,   7.65  ,  29.    ,  12.475 ,   9.    ,   9.5   ,\n",
       "         7.7875,  47.1   ,  15.85  ,  34.375 ,  61.175 ,  20.575 ,\n",
       "        34.6542,  63.3583,  23.    ,  77.2875,   8.6542,   7.775 ,\n",
       "        24.15  ,   9.825 ,  14.4583, 247.5208,   7.1417,  22.3583,\n",
       "         6.975 ,   7.05  ,  14.5   ,  15.0458,  26.2833,   9.2167,\n",
       "        79.2   ,   6.75  ,  11.5   ,  36.75  ,   7.7958,  12.525 ,\n",
       "        66.6   ,   7.3125,  61.3792,   7.7333,  69.55  ,  16.1   ,\n",
       "        15.75  ,  20.525 ,  55.    ,  25.925 ,  33.5   ,  30.6958,\n",
       "        25.4667,  28.7125,   0.    ,  15.05  ,  39.    ,  22.025 ,\n",
       "        50.    ,   8.4042,   6.4958,  10.4625,  18.7875,  31.    ,\n",
       "       113.275 ,  27.    ,  76.2917,  90.    ,   9.35  ,  13.5   ,\n",
       "         7.55  ,  26.25  ,  12.275 ,   7.125 ,  52.5542,  20.2125,\n",
       "        86.5   , 512.3292,  79.65  , 153.4625, 135.6333,  19.5   ,\n",
       "        29.7   ,  77.9583,  20.25  ,  78.85  ,  91.0792,  12.875 ,\n",
       "         8.85  , 151.55  ,  30.5   ,  23.25  ,  12.35  , 110.8833,\n",
       "       108.9   ,  24.    ,  56.9292,  83.1583, 262.375 ,  14.    ,\n",
       "       164.8667, 134.5   ,   6.2375,  57.9792,  28.5   , 133.65  ,\n",
       "        15.9   ,   9.225 ,  35.    ,  75.25  ,  69.3   ,  55.4417,\n",
       "       211.5   ,   4.0125, 227.525 ,  15.7417,   7.7292,  12.    ,\n",
       "       120.    ,  12.65  ,  18.75  ,   6.8583,  32.5   ,   7.875 ,\n",
       "        14.4   ,  55.9   ,   8.1125,  81.8583,  19.2583,  19.9667,\n",
       "        89.1042,  38.5   ,   7.725 ,  13.7917,   9.8375,   7.0458,\n",
       "         7.5208,  12.2875,   9.5875,  49.5042,  78.2667,  15.1   ,\n",
       "         7.6292,  22.525 ,  26.2875,  59.4   ,   7.4958,  34.0208,\n",
       "        93.5   , 221.7792, 106.425 ,  49.5   ,  71.    ,  13.8625,\n",
       "         7.8292,  39.6   ,  17.4   ,  51.4792,  26.3875,  30.    ,\n",
       "        40.125 ,   8.7125,  15.    ,  33.    ,  42.4   ,  15.55  ,\n",
       "        65.    ,  32.3208,   7.0542,   8.4333,  25.5875,   9.8417,\n",
       "         8.1375,  10.1708, 211.3375,  57.    ,  13.4167,   7.7417,\n",
       "         9.4833,   7.7375,   8.3625,  23.45  ,  25.9292,   8.6833,\n",
       "         8.5167,   7.8875,  37.0042,   6.45  ,   6.95  ,   8.3   ,\n",
       "         6.4375,  39.4   ,  14.1083,  13.8583,  50.4958,   5.    ,\n",
       "         9.8458,  10.5167])"
      ]
     },
     "execution_count": 52,
     "metadata": {},
     "output_type": "execute_result"
    }
   ],
   "source": [
    "df_train.Fare.unique()"
   ]
  },
  {
   "cell_type": "code",
   "execution_count": 53,
   "id": "121487b0-6421-41c5-b926-4fb5faf7712b",
   "metadata": {},
   "outputs": [],
   "source": [
    "df_test.Fare = df_test.Fare.fillna(0.0)"
   ]
  },
  {
   "cell_type": "code",
   "execution_count": 54,
   "id": "39dc9626-94d6-4709-87e6-47beba820913",
   "metadata": {
    "scrolled": true,
    "tags": []
   },
   "outputs": [
    {
     "name": "stdout",
     "output_type": "stream",
     "text": [
      "Shapiro: 1.0789998175301091e-43\n",
      "Normal test: 3.727091062842147e-197\n",
      "Kstest: 0.0\n",
      "Anderson: AndersonResult(statistic=122.16962721459208, critical_values=array([0.573, 0.653, 0.784, 0.914, 1.087]), significance_level=array([15. , 10. ,  5. ,  2.5,  1. ]))\n"
     ]
    },
    {
     "data": {
      "image/png": "[encoded data removed]",
      "text/plain": [
       "<Figure size 432x288 with 1 Axes>"
      ]
     },
     "metadata": {
      "needs_background": "light"
     },
     "output_type": "display_data"
    },
    {
     "data": {
      "image/png": "[encoded data removed]",
      "text/plain": [
       "<Figure size 432x288 with 1 Axes>"
      ]
     },
     "metadata": {
      "needs_background": "light"
     },
     "output_type": "display_data"
    }
   ],
   "source": [
    "test_normality(data=df_train.Fare, bins=20)"
   ]
  },
  {
   "cell_type": "code",
   "execution_count": 55,
   "id": "6f7cc8cf-3e26-4a0d-9b0a-e1ead426d38f",
   "metadata": {
    "scrolled": true,
    "tags": []
   },
   "outputs": [
    {
     "name": "stdout",
     "output_type": "stream",
     "text": [
      "Shapiro: 2.744576588670101e-22\n",
      "Normal test: 8.147507760164453e-08\n",
      "Kstest: 0.0\n",
      "Anderson: AndersonResult(statistic=23.15878870212498, critical_values=array([0.573, 0.653, 0.784, 0.914, 1.087]), significance_level=array([15. , 10. ,  5. ,  2.5,  1. ]))\n"
     ]
    },
    {
     "data": {
      "image/png": "[encoded data removed]",
      "text/plain": [
       "<Figure size 432x288 with 1 Axes>"
      ]
     },
     "metadata": {
      "needs_background": "light"
     },
     "output_type": "display_data"
    },
    {
     "data": {
      "image/png": "[encoded data removed]",
      "text/plain": [
       "<Figure size 432x288 with 1 Axes>"
      ]
     },
     "metadata": {
      "needs_background": "light"
     },
     "output_type": "display_data"
    }
   ],
   "source": [
    "from scipy.stats import yeojohnson\n",
    "\n",
    "Fare = df_train.Fare\n",
    "Fare, _ = yeojohnson(Fare)\n",
    "test_normality(Fare, bins=20)"
   ]
  },
  {
   "cell_type": "code",
   "execution_count": 56,
   "id": "7f65f838-d66d-41a4-a010-7814d818eec1",
   "metadata": {
    "scrolled": true,
    "tags": []
   },
   "outputs": [
    {
     "name": "stdout",
     "output_type": "stream",
     "text": [
      "Shapiro: 1.652677925356806e-26\n",
      "Normal test: 1.5273085483941805e-19\n",
      "Kstest: 0.0\n",
      "Anderson: AndersonResult(statistic=35.545645342163425, critical_values=array([0.573, 0.653, 0.784, 0.914, 1.087]), significance_level=array([15. , 10. ,  5. ,  2.5,  1. ]))\n"
     ]
    },
    {
     "data": {
      "image/png": "[encoded data removed]",
      "text/plain": [
       "<Figure size 432x288 with 1 Axes>"
      ]
     },
     "metadata": {
      "needs_background": "light"
     },
     "output_type": "display_data"
    },
    {
     "data": {
      "image/png": "[encoded data removed]",
      "text/plain": [
       "<Figure size 432x288 with 1 Axes>"
      ]
     },
     "metadata": {
      "needs_background": "light"
     },
     "output_type": "display_data"
    }
   ],
   "source": [
    "from scipy.stats import boxcox\n",
    "\n",
    "Fare = df_train.Fare.apply(lambda fare: fare + 1e-5)\n",
    "Fare, _ = boxcox(Fare)\n",
    "test_normality(data=Fare, bins=20)"
   ]
  },
  {
   "cell_type": "code",
   "execution_count": 57,
   "id": "d36221a2-d368-4706-8909-8a6176dbb599",
   "metadata": {
    "scrolled": true,
    "tags": []
   },
   "outputs": [
    {
     "name": "stdout",
     "output_type": "stream",
     "text": [
      "Shapiro: 6.642045243763613e-22\n",
      "Normal test: 2.206246111056749e-09\n",
      "Kstest: 0.0\n",
      "Anderson: AndersonResult(statistic=26.16684640028302, critical_values=array([0.573, 0.653, 0.784, 0.914, 1.087]), significance_level=array([15. , 10. ,  5. ,  2.5,  1. ]))\n"
     ]
    },
    {
     "data": {
      "image/png": "[encoded data removed]",
      "text/plain": [
       "<Figure size 432x288 with 1 Axes>"
      ]
     },
     "metadata": {
      "needs_background": "light"
     },
     "output_type": "display_data"
    },
    {
     "data": {
      "image/png": "[encoded data removed]",
      "text/plain": [
       "<Figure size 432x288 with 1 Axes>"
      ]
     },
     "metadata": {
      "needs_background": "light"
     },
     "output_type": "display_data"
    }
   ],
   "source": [
    "Fare = df_train.Fare.apply(lambda Fare: np.log(Fare+1))\n",
    "test_normality(data=Fare, bins=20)"
   ]
  },
  {
   "cell_type": "code",
   "execution_count": 58,
   "id": "cbf9304e-ef67-4dfb-a613-9ee036512b13",
   "metadata": {
    "scrolled": true,
    "tags": []
   },
   "outputs": [
    {
     "name": "stdout",
     "output_type": "stream",
     "text": [
      "Shapiro: 1.7473432590121475e-32\n",
      "Normal test: 5.506750739166405e-89\n",
      "Kstest: 0.0\n",
      "Anderson: AndersonResult(statistic=56.62090227289309, critical_values=array([0.573, 0.653, 0.784, 0.914, 1.087]), significance_level=array([15. , 10. ,  5. ,  2.5,  1. ]))\n"
     ]
    },
    {
     "data": {
      "image/png": "[encoded data removed]",
      "text/plain": [
       "<Figure size 432x288 with 1 Axes>"
      ]
     },
     "metadata": {
      "needs_background": "light"
     },
     "output_type": "display_data"
    },
    {
     "data": {
      "image/png": "[encoded data removed]",
      "text/plain": [
       "<Figure size 432x288 with 1 Axes>"
      ]
     },
     "metadata": {
      "needs_background": "light"
     },
     "output_type": "display_data"
    }
   ],
   "source": [
    "Fare = df_train.Fare.apply(lambda Fare: np.sqrt(Fare))\n",
    "test_normality(data=Fare, bins=20)"
   ]
  },
  {
   "cell_type": "code",
   "execution_count": 59,
   "id": "01ef0bef-07c5-413f-9220-706d5ded2fa1",
   "metadata": {},
   "outputs": [],
   "source": [
    "Fare = df_train.Fare\n",
    "Fare, lmbda = yeojohnson(Fare)\n",
    "mean_fare = np.mean(Fare)\n",
    "std_fare = np.std(Fare)\n",
    "df_train.Fare = (Fare - mean_fare) / std_fare"
   ]
  },
  {
   "cell_type": "code",
   "execution_count": 60,
   "id": "6d059f20-c041-4db8-a766-360643befa03",
   "metadata": {},
   "outputs": [],
   "source": [
    "Fare = df_test.Fare\n",
    "Fare = yeojohnson(Fare, lmbda=lmbda)\n",
    "df_test.Fare = (Fare - mean_fare) / std_fare"
   ]
  },
  {
   "cell_type": "markdown",
   "id": "da101c22-5e49-4db8-9897-c4c6d0b1b446",
   "metadata": {
    "jp-MarkdownHeadingCollapsed": true,
    "tags": []
   },
   "source": [
    "## 2.10. Cabin"
   ]
  },
  {
   "cell_type": "markdown",
   "id": "ffc4bd78-7b4a-43be-af1d-5ffdc9043849",
   "metadata": {},
   "source": [
    "Cabin represent the Cabin number"
   ]
  },
  {
   "cell_type": "code",
   "execution_count": 61,
   "id": "e50a5a10-b790-4f9e-ad25-333db948ed56",
   "metadata": {
    "scrolled": true,
    "tags": []
   },
   "outputs": [
    {
     "data": {
      "text/plain": [
       "array([nan, 'C85', 'C123', 'E46', 'G6', 'C103', 'D56', 'A6',\n",
       "       'C23 C25 C27', 'B78', 'D33', 'B30', 'C52', 'B28', 'C83', 'F33',\n",
       "       'F G73', 'E31', 'A5', 'D10 D12', 'D26', 'C110', 'B58 B60', 'E101',\n",
       "       'F E69', 'D47', 'B86', 'F2', 'C2', 'E33', 'B19', 'A7', 'C49', 'F4',\n",
       "       'A32', 'B4', 'B80', 'A31', 'D36', 'D15', 'C93', 'C78', 'D35',\n",
       "       'C87', 'B77', 'E67', 'B94', 'C125', 'C99', 'C118', 'D7', 'A19',\n",
       "       'B49', 'D', 'C22 C26', 'C106', 'C65', 'E36', 'C54',\n",
       "       'B57 B59 B63 B66', 'C7', 'E34', 'C32', 'B18', 'C124', 'C91', 'E40',\n",
       "       'T', 'C128', 'D37', 'B35', 'E50', 'C82', 'B96 B98', 'E10', 'E44',\n",
       "       'A34', 'C104', 'C111', 'C92', 'E38', 'D21', 'E12', 'E63', 'A14',\n",
       "       'B37', 'C30', 'D20', 'B79', 'E25', 'D46', 'B73', 'C95', 'B38',\n",
       "       'B39', 'B22', 'C86', 'C70', 'A16', 'C101', 'C68', 'A10', 'E68',\n",
       "       'B41', 'A20', 'D19', 'D50', 'D9', 'A23', 'B50', 'A26', 'D48',\n",
       "       'E58', 'C126', 'B71', 'B51 B53 B55', 'D49', 'B5', 'B20', 'F G63',\n",
       "       'C62 C64', 'E24', 'C90', 'C45', 'E8', 'B101', 'D45', 'C46', 'D30',\n",
       "       'E121', 'D11', 'E77', 'F38', 'B3', 'D6', 'B82 B84', 'D17', 'A36',\n",
       "       'B102', 'B69', 'E49', 'C47', 'D28', 'E17', 'A24', 'C50', 'B42',\n",
       "       'C148'], dtype=object)"
      ]
     },
     "execution_count": 61,
     "metadata": {},
     "output_type": "execute_result"
    }
   ],
   "source": [
    "df_train.Cabin.unique()"
   ]
  },
  {
   "cell_type": "code",
   "execution_count": 62,
   "id": "79a51ca5-17a1-44f3-855a-ec1b5aebb4e5",
   "metadata": {},
   "outputs": [
    {
     "data": {
      "text/plain": [
       "0.7710437710437711"
      ]
     },
     "execution_count": 62,
     "metadata": {},
     "output_type": "execute_result"
    }
   ],
   "source": [
    "df_train.Cabin.isna().mean()"
   ]
  },
  {
   "cell_type": "code",
   "execution_count": 63,
   "id": "ef9f7cf1-9f82-4fb5-a7fe-2497577aa075",
   "metadata": {},
   "outputs": [
    {
     "data": {
      "text/plain": [
       "0.7822966507177034"
      ]
     },
     "execution_count": 63,
     "metadata": {},
     "output_type": "execute_result"
    }
   ],
   "source": [
    "df_test.Cabin.isna().mean()"
   ]
  },
  {
   "cell_type": "code",
   "execution_count": 64,
   "id": "065f21e6-34f6-4998-88e6-63e45d640f37",
   "metadata": {},
   "outputs": [],
   "source": [
    "df_train[\"Has_a_cabin\"] = df_train.Cabin.notna()\n",
    "df_test[\"Has_a_cabin\"] = df_test.Cabin.notna()"
   ]
  },
  {
   "cell_type": "code",
   "execution_count": 65,
   "id": "a5902082-8b36-48fb-8e1d-7015ae842ed5",
   "metadata": {},
   "outputs": [],
   "source": [
    "df_train.drop(labels=[\"Cabin\"], axis=1, inplace=True)\n",
    "df_test.drop(labels=[\"Cabin\"], axis=1, inplace=True)"
   ]
  },
  {
   "cell_type": "markdown",
   "id": "188ee709-c22c-4beb-837e-e744117c1a52",
   "metadata": {
    "jp-MarkdownHeadingCollapsed": true,
    "tags": []
   },
   "source": [
    "## 2.11. Embarked"
   ]
  },
  {
   "cell_type": "markdown",
   "id": "cf839467-7a21-4899-8f3f-afd121118d73",
   "metadata": {},
   "source": [
    "Embarked is the port of embarkation"
   ]
  },
  {
   "cell_type": "code",
   "execution_count": 66,
   "id": "88ca7f1b-4d64-4984-9635-5f8ae73b2f2d",
   "metadata": {},
   "outputs": [
    {
     "data": {
      "text/plain": [
       "array(['S', 'C', 'Q', nan], dtype=object)"
      ]
     },
     "execution_count": 66,
     "metadata": {},
     "output_type": "execute_result"
    }
   ],
   "source": [
    "df_train.Embarked.unique()"
   ]
  },
  {
   "cell_type": "code",
   "execution_count": 67,
   "id": "6a38d662-7298-47da-bf1d-5b14d9a5e73c",
   "metadata": {},
   "outputs": [
    {
     "data": {
      "text/plain": [
       "array(['Q', 'S', 'C'], dtype=object)"
      ]
     },
     "execution_count": 67,
     "metadata": {},
     "output_type": "execute_result"
    }
   ],
   "source": [
    "df_test.Embarked.unique()"
   ]
  },
  {
   "cell_type": "code",
   "execution_count": 68,
   "id": "ae728f05-85f4-4e71-aa45-127cc9e2b61d",
   "metadata": {},
   "outputs": [
    {
     "data": {
      "text/plain": [
       "2"
      ]
     },
     "execution_count": 68,
     "metadata": {},
     "output_type": "execute_result"
    }
   ],
   "source": [
    "df_train.Embarked.isna().sum()"
   ]
  },
  {
   "cell_type": "code",
   "execution_count": 69,
   "id": "66ab424f-4db0-44ca-a07b-61dc8b9d2bf7",
   "metadata": {},
   "outputs": [
    {
     "data": {
      "text/plain": [
       "0"
      ]
     },
     "execution_count": 69,
     "metadata": {},
     "output_type": "execute_result"
    }
   ],
   "source": [
    "df_test.Embarked.isna().sum()"
   ]
  },
  {
   "cell_type": "code",
   "execution_count": 70,
   "id": "9f50a322-079e-41aa-9278-132ba6583e33",
   "metadata": {},
   "outputs": [],
   "source": [
    "df_train = pd.get_dummies(df_train, columns=[\"Embarked\"], dummy_na=False)\n",
    "df_test = pd.get_dummies(df_test, columns=[\"Embarked\"], dummy_na=False)"
   ]
  },
  {
   "cell_type": "markdown",
   "id": "825a12e5-c87a-4e57-8cab-c47451660f62",
   "metadata": {
    "tags": []
   },
   "source": [
    "# 3. Model with basics features"
   ]
  },
  {
   "cell_type": "code",
   "execution_count": 71,
   "id": "8da56a7b-cf5f-4e96-b745-096ce106e907",
   "metadata": {},
   "outputs": [],
   "source": [
    "X_train = df_train[['Age', 'SibSp', 'Parch', 'Fare', 'Pclass_1', 'Pclass_2', 'Sex_male', 'Has_a_cabin', \n",
    "                    'Embarked_C', 'Embarked_Q', 'Embarked_S']]\n",
    "X_test = df_test[['Age', 'SibSp', 'Parch', 'Fare', 'Pclass_1', 'Pclass_2', 'Sex_male', 'Has_a_cabin', \n",
    "                    'Embarked_C', 'Embarked_Q', 'Embarked_S']]\n",
    "y_train = df_train[['Survived']].to_numpy().ravel()"
   ]
  },
  {
   "cell_type": "markdown",
   "id": "499090bc-ea74-406f-8a21-85a53e0bd755",
   "metadata": {
    "jp-MarkdownHeadingCollapsed": true,
    "tags": []
   },
   "source": [
    "## 3.1. Logistic regression"
   ]
  },
  {
   "cell_type": "code",
   "execution_count": 72,
   "id": "a88036b0-85ba-40b8-985e-98f3f0f5cf5a",
   "metadata": {},
   "outputs": [],
   "source": [
    "from sklearn.linear_model import LogisticRegression\n",
    "from sklearn.model_selection import GridSearchCV\n",
    "\n",
    "logistic = LogisticRegression(max_iter=1000, random_state=42)\n",
    "\n",
    "parameters = [\n",
    "    {\n",
    "        \"solver\": [\"liblinear\"],\n",
    "        \"penalty\": [\"l1\", \"l2\"],\n",
    "        \"C\": list(np.logspace(-5, 5, 31))\n",
    "    },\n",
    "    {\n",
    "        \"solver\": [\"saga\"],\n",
    "        \"penalty\": [\"elasticnet\"],\n",
    "        \"C\": list(np.logspace(-5, 5, 31)),\n",
    "        \"l1_ratio\": list(np.linspace(0.1, 0.9, 9)),\n",
    "        \"n_jobs\": [-1]\n",
    "    }\n",
    "]\n",
    "\n",
    "clf = GridSearchCV(estimator=logistic, param_grid=parameters, scoring='accuracy', n_jobs=-1, refit=True, cv=10, verbose=4)"
   ]
  },
  {
   "cell_type": "code",
   "execution_count": 73,
   "id": "56eb14be-8129-4f0e-9647-e6b31a2cb343",
   "metadata": {},
   "outputs": [
    {
     "name": "stdout",
     "output_type": "stream",
     "text": [
      "Fitting 10 folds for each of 341 candidates, totalling 3410 fits\n",
      "Best score 0.8024469413233459\n",
      "Best params: {'C': 0.21544346900318823, 'penalty': 'l2', 'solver': 'liblinear'}\n"
     ]
    }
   ],
   "source": [
    "clf = clf.fit(X_train, y_train)\n",
    "print(\"Best score {}\".format(clf.best_score_))\n",
    "print(\"Best params: \" + str(clf.best_params_))\n",
    "y_pred = clf.predict(X_test)\n",
    "pd.DataFrame({'PassengerId': df_test.PassengerId, 'Survived': y_pred}).to_csv('./results/Logistic_basic_features.csv', index=False)"
   ]
  },
  {
   "cell_type": "markdown",
   "id": "4d4d0835-ee62-40c9-ba03-5611f1e96948",
   "metadata": {
    "jp-MarkdownHeadingCollapsed": true,
    "tags": []
   },
   "source": [
    "## 3.2. KNN"
   ]
  },
  {
   "cell_type": "code",
   "execution_count": 96,
   "id": "0ba55bc3-aa3e-454d-8d80-81d39ed58d5d",
   "metadata": {},
   "outputs": [],
   "source": [
    "from sklearn.neighbors import KNeighborsClassifier\n",
    "from sklearn.model_selection import GridSearchCV\n",
    "\n",
    "kNN = KNeighborsClassifier(n_jobs=-1)\n",
    "\n",
    "parameters = {\n",
    "    \"n_neighbors\": list(np.linspace(1, 800, 800, dtype=np.int16)),\n",
    "    \"weights\": [\"uniform\", \"distance\"],\n",
    "    \"p\": [1, 2]\n",
    "}\n",
    "\n",
    "clf = GridSearchCV(estimator=kNN, param_grid=parameters, scoring='accuracy', n_jobs=-1, refit=True, cv=10, verbose=4)"
   ]
  },
  {
   "cell_type": "code",
   "execution_count": 97,
   "id": "96a9366f-78e2-4999-8640-da3458f1c724",
   "metadata": {},
   "outputs": [
    {
     "name": "stdout",
     "output_type": "stream",
     "text": [
      "Fitting 10 folds for each of 3200 candidates, totalling 32000 fits\n",
      "Best score 0.8159675405742821\n",
      "Best params: {'n_neighbors': 25, 'p': 1, 'weights': 'distance'}\n"
     ]
    }
   ],
   "source": [
    "clf = clf.fit(X_train, y_train)\n",
    "print(\"Best score {}\".format(clf.best_score_))\n",
    "print(\"Best params: \" + str(clf.best_params_))\n",
    "y_pred = clf.predict(X_test)\n",
    "pd.DataFrame({'PassengerId': df_test.PassengerId, 'Survived': y_pred}).to_csv('./results/KNN_basic_features.csv', index=False)"
   ]
  },
  {
   "cell_type": "markdown",
   "id": "371089b9-f5b6-4913-84a5-4db0e2f04eb9",
   "metadata": {
    "jp-MarkdownHeadingCollapsed": true,
    "tags": []
   },
   "source": [
    "## 3.3. SVM"
   ]
  },
  {
   "cell_type": "code",
   "execution_count": 74,
   "id": "65960aea-408f-4923-be04-64e9c2261b97",
   "metadata": {},
   "outputs": [],
   "source": [
    "from sklearn.svm import SVC\n",
    "from sklearn.model_selection import GridSearchCV\n",
    "\n",
    "svc = SVC(random_state=42)\n",
    "\n",
    "parameters = [\n",
    "    {\n",
    "        \"C\": list(np.logspace(-3, 3, 7)), #list(np.logspace(-5, 5, 31)),\n",
    "        \"kernel\": [\"linear\", \"rbf\", \"sigmoid\"]\n",
    "    },\n",
    "    {\n",
    "        \"C\":  list(np.logspace(-3, 3, 7)), #list(np.logspace(-5, 5, 31)),\n",
    "        \"kernel\": [\"poly\"],\n",
    "        \"degree\": list(np.linspace(1, 10, 10))\n",
    "    }\n",
    "]\n",
    "clf = GridSearchCV(estimator=svc, param_grid=parameters, scoring='accuracy', n_jobs=-1, refit=True, cv=10, verbose=4)"
   ]
  },
  {
   "cell_type": "code",
   "execution_count": 75,
   "id": "987674f4-7493-45d7-a78d-c621c88b0d1a",
   "metadata": {},
   "outputs": [
    {
     "name": "stdout",
     "output_type": "stream",
     "text": [
      "Fitting 10 folds for each of 91 candidates, totalling 910 fits\n",
      "Best score 0.8204494382022472\n",
      "Best params: {'C': 1.0, 'kernel': 'rbf'}\n"
     ]
    }
   ],
   "source": [
    "clf = clf.fit(X_train, y_train)\n",
    "print(\"Best score {}\".format(clf.best_score_))\n",
    "print(\"Best params: \" + str(clf.best_params_))\n",
    "y_pred = clf.predict(X_test)\n",
    "pd.DataFrame({'PassengerId': df_test.PassengerId, 'Survived': y_pred}).to_csv('./results/SVM_basic_features.csv', index=False)"
   ]
  },
  {
   "cell_type": "markdown",
   "id": "662566e8-f386-4e9c-b667-f7b4eda9002c",
   "metadata": {},
   "source": [
    "## 3.4. Gradien boosting"
   ]
  },
  {
   "cell_type": "code",
   "execution_count": 84,
   "id": "57c3b35e-9964-4e76-8afa-0e03b25b3df5",
   "metadata": {},
   "outputs": [],
   "source": [
    "from sklearn.ensemble import GradientBoostingClassifier\n",
    "from sklearn.model_selection import GridSearchCV\n",
    "\n",
    "xgboost = GradientBoostingClassifier(random_state=42)\n",
    "\n",
    "parameters = {\n",
    "    \"learning_rate\": [0.001, 0.01, 0.05, 0.1, 0.3, 0.6, 0.9],\n",
    "    \"n_estimators\": [1e1, 1e2, 1e3, 1e4, 1e5, 1e6],\n",
    "    \"subsample\": [0.1, 0.3, 0.5, 0.7, 0.9, 1],\n",
    "    \"min_samples_split\": [2, 5, 10, 20, 50, 100],\n",
    "    \"min_samples_leaf\": [1, 2, 5, 10, 20, 50, 100],\n",
    "    \"min_weight_fraction_leaf\": [0, 0.2, 0.4, 0.5],\n",
    "    \"max_depth\": [1, 2, 5, 10, 20, 50, 100, 200, 500, 1000],\n",
    "}\n",
    "\n",
    "clf = GridSearchCV(estimator=xgboost, param_grid=parameters, scoring='accuracy', n_jobs=-1, refit=True, cv=10, verbose=4)"
   ]
  },
  {
   "cell_type": "code",
   "execution_count": 88,
   "id": "a4492388-8496-431f-8e5f-ad22266f7824",
   "metadata": {},
   "outputs": [],
   "source": [
    "from sklearn.ensemble import GradientBoostingClassifier\n",
    "from sklearn.model_selection import GridSearchCV\n",
    "\n",
    "xgboost = GradientBoostingClassifier(random_state=42)\n",
    "\n",
    "parameters = {\n",
    "    \"learning_rate\": [0.01, 0.05, 0.1, 0.2, 0.3],\n",
    "    \"n_estimators\": [10, 20, 50, 100, 200, 500, 1000],\n",
    "    \"subsample\": list(np.linspace(0.1, 1.0, 10))\n",
    "}\n",
    "\n",
    "clf = GridSearchCV(estimator=xgboost, param_grid=parameters, scoring='accuracy', n_jobs=-1, refit=True, cv=10, verbose=4)"
   ]
  },
  {
   "cell_type": "code",
   "execution_count": 89,
   "id": "42740af2-7199-4459-ab8d-7f0bcfee228d",
   "metadata": {},
   "outputs": [
    {
     "name": "stdout",
     "output_type": "stream",
     "text": [
      "Fitting 10 folds for each of 350 candidates, totalling 3500 fits\n",
      "Best score 0.8372908863920099\n",
      "Best params: {'learning_rate': 0.01, 'n_estimators': 500, 'subsample': 0.7000000000000001}\n"
     ]
    }
   ],
   "source": [
    "clf = clf.fit(X_train, y_train)\n",
    "print(\"Best score {}\".format(clf.best_score_))\n",
    "print(\"Best params: \" + str(clf.best_params_))\n",
    "y_pred = clf.predict(X_test)\n",
    "pd.DataFrame({'PassengerId': df_test.PassengerId, 'Survived': y_pred}).to_csv('./results/XGBoost_basic_features.csv', index=False)"
   ]
  },
  {
   "cell_type": "markdown",
   "id": "08c4bcda-da54-4821-a5e5-70afa0c62765",
   "metadata": {
    "jp-MarkdownHeadingCollapsed": true,
    "tags": []
   },
   "source": [
    "# 4. Model with full features"
   ]
  },
  {
   "cell_type": "code",
   "execution_count": 81,
   "id": "8364a06e-6ba8-484a-9c29-1d38d6c618cd",
   "metadata": {},
   "outputs": [],
   "source": [
    "X_train = df_train[['Age', 'SibSp', 'Parch', 'Fare', 'Pclass_1', 'Pclass_2',\n",
    "       'Pclass_3', 'Sex_male', 'SibSp_0', 'SibSp_1', 'SibSp_2', 'SibSp_3',\n",
    "       'SibSp_4', 'SibSp_5', 'SibSp_8', 'Has_at_least_1_SibSp_onboard',\n",
    "       'Has_at_least_2_SibSp_onboard', 'Has_at_least_3_SibSp_onboard',\n",
    "       'Has_at_least_4_SibSp_onboard', 'Has_at_least_5_SibSp_onboard',\n",
    "       'Has_at_least_8_SibSp_onboard', 'Parch_0', 'Parch_1', 'Parch_2',\n",
    "       'Parch_3', 'Parch_4', 'Parch_5', 'Parch_6',\n",
    "       'Has_at_least_1_Parch_onboard', 'Has_at_least_2_Parch_onboard',\n",
    "       'Has_at_least_3_Parch_onboard', 'Has_at_least_4_Parch_onboard',\n",
    "       'Has_at_least_5_Parch_onboard', 'Has_at_least_6_Parch_onboard',\n",
    "       'Has_a_cabin', 'Embarked_C', 'Embarked_Q', 'Embarked_S']]\n",
    "X_test = df_test[['Age', 'SibSp', 'Parch', 'Fare', 'Pclass_1', 'Pclass_2',\n",
    "       'Pclass_3', 'Sex_male', 'SibSp_0', 'SibSp_1', 'SibSp_2', 'SibSp_3',\n",
    "       'SibSp_4', 'SibSp_5', 'SibSp_8', 'Has_at_least_1_SibSp_onboard',\n",
    "       'Has_at_least_2_SibSp_onboard', 'Has_at_least_3_SibSp_onboard',\n",
    "       'Has_at_least_4_SibSp_onboard', 'Has_at_least_5_SibSp_onboard',\n",
    "       'Has_at_least_8_SibSp_onboard', 'Parch_0', 'Parch_1', 'Parch_2',\n",
    "       'Parch_3', 'Parch_4', 'Parch_5', 'Parch_6',\n",
    "       'Has_at_least_1_Parch_onboard', 'Has_at_least_2_Parch_onboard',\n",
    "       'Has_at_least_3_Parch_onboard', 'Has_at_least_4_Parch_onboard',\n",
    "       'Has_at_least_5_Parch_onboard', 'Has_at_least_6_Parch_onboard',\n",
    "       'Has_a_cabin', 'Embarked_C', 'Embarked_Q', 'Embarked_S']]\n",
    "y_train = df_train[['Survived']].to_numpy().ravel()"
   ]
  },
  {
   "cell_type": "markdown",
   "id": "d1a46852-a185-4c9f-8ba5-f496d34609cb",
   "metadata": {
    "jp-MarkdownHeadingCollapsed": true,
    "tags": []
   },
   "source": [
    "## 4.1. Logistic regression"
   ]
  },
  {
   "cell_type": "code",
   "execution_count": 75,
   "id": "25d7acd0-c289-4aac-8b07-a89298530a90",
   "metadata": {},
   "outputs": [],
   "source": [
    "from sklearn.linear_model import LogisticRegression\n",
    "from sklearn.model_selection import GridSearchCV\n",
    "\n",
    "logistic = LogisticRegression(max_iter=1000, random_state=42)\n",
    "\n",
    "parameters = [\n",
    "    {\n",
    "        \"solver\": [\"liblinear\"],\n",
    "        \"penalty\": [\"l1\", \"l2\"],\n",
    "        \"C\": list(np.logspace(-5, 5, 31))\n",
    "    },\n",
    "    {\n",
    "        \"solver\": [\"saga\"],\n",
    "        \"penalty\": [\"elasticnet\"],\n",
    "        \"C\": list(np.logspace(-5, 5, 31)),\n",
    "        \"l1_ratio\": list(np.linspace(0.1, 0.9, 9)),\n",
    "        \"n_jobs\": [-1]\n",
    "    }\n",
    "]\n",
    "\n",
    "clf = GridSearchCV(estimator=logistic, param_grid=parameters, scoring='accuracy', n_jobs=-1, refit=True, cv=10, verbose=4)"
   ]
  },
  {
   "cell_type": "code",
   "execution_count": 76,
   "id": "7afce0ed-ae28-46df-b92c-bb242e9704a6",
   "metadata": {},
   "outputs": [
    {
     "name": "stdout",
     "output_type": "stream",
     "text": [
      "Fitting 10 folds for each of 341 candidates, totalling 3410 fits\n",
      "Best score 0.8159300873907614\n",
      "Best params: {'C': 2.154434690031882, 'penalty': 'l2', 'solver': 'liblinear'}\n"
     ]
    }
   ],
   "source": [
    "clf = clf.fit(X_train, y_train)\n",
    "print(\"Best score {}\".format(clf.best_score_))\n",
    "print(\"Best params: \" + str(clf.best_params_))\n",
    "y_pred = clf.predict(X_test)\n",
    "pd.DataFrame({'PassengerId': df_test.PassengerId, 'Survived': y_pred}).to_csv('./results/Logistic_full_features.csv', index=False)"
   ]
  },
  {
   "cell_type": "markdown",
   "id": "f14152f3-2879-472f-aa0c-1dc69f2fc7cd",
   "metadata": {
    "jp-MarkdownHeadingCollapsed": true,
    "tags": []
   },
   "source": [
    "## 4.2. KNN"
   ]
  },
  {
   "cell_type": "code",
   "execution_count": 101,
   "id": "20783aeb-6973-488a-889e-32f2be4a50d0",
   "metadata": {},
   "outputs": [],
   "source": [
    "from sklearn.neighbors import KNeighborsClassifier\n",
    "from sklearn.model_selection import GridSearchCV\n",
    "\n",
    "kNN = KNeighborsClassifier(n_jobs=-1)\n",
    "\n",
    "parameters = {\n",
    "    \"n_neighbors\": list(np.linspace(1, 800, 800, dtype=np.int16)),\n",
    "    \"weights\": [\"uniform\", \"distance\"],\n",
    "    \"p\": [1, 2]\n",
    "}\n",
    "\n",
    "clf = GridSearchCV(estimator=kNN, param_grid=parameters, scoring='accuracy', n_jobs=-1, refit=True, cv=10, verbose=4)"
   ]
  },
  {
   "cell_type": "code",
   "execution_count": 102,
   "id": "c52ff0d4-0228-45f4-b187-096cc746744a",
   "metadata": {},
   "outputs": [
    {
     "name": "stdout",
     "output_type": "stream",
     "text": [
      "Fitting 10 folds for each of 3200 candidates, totalling 32000 fits\n",
      "Best score 0.798039950062422\n",
      "Best params: {'n_neighbors': 5, 'p': 1, 'weights': 'uniform'}\n"
     ]
    }
   ],
   "source": [
    "clf = clf.fit(X_train, y_train)\n",
    "print(\"Best score {}\".format(clf.best_score_))\n",
    "print(\"Best params: \" + str(clf.best_params_))\n",
    "y_pred = clf.predict(X_test)\n",
    "pd.DataFrame({'PassengerId': df_test.PassengerId, 'Survived': y_pred}).to_csv('./results/KNN_full_features.csv', index=False)"
   ]
  },
  {
   "cell_type": "markdown",
   "id": "2b1548dc-89ca-4cc0-95be-cae1d8dc700f",
   "metadata": {
    "jp-MarkdownHeadingCollapsed": true,
    "tags": []
   },
   "source": [
    "## 4.3. SVM"
   ]
  },
  {
   "cell_type": "code",
   "execution_count": 82,
   "id": "72b08e55-cbb5-4a8f-8cde-b811f81537c9",
   "metadata": {},
   "outputs": [],
   "source": [
    "from sklearn.svm import SVC\n",
    "from sklearn.model_selection import GridSearchCV\n",
    "\n",
    "svc = SVC(random_state=42)\n",
    "\n",
    "parameters = [\n",
    "    {\n",
    "        \"C\": list(np.logspace(-3, 3, 7)), #list(np.logspace(-5, 5, 31)),\n",
    "        \"kernel\": [\"linear\", \"rbf\", \"sigmoid\"]\n",
    "    },\n",
    "    {\n",
    "        \"C\":  list(np.logspace(-3, 3, 7)), #list(np.logspace(-5, 5, 31)),\n",
    "        \"kernel\": [\"poly\"],\n",
    "        \"degree\": list(np.linspace(1, 10, 10))\n",
    "    }\n",
    "]\n",
    "clf = GridSearchCV(estimator=svc, param_grid=parameters, scoring='accuracy', n_jobs=-1, refit=True, cv=10, verbose=4)"
   ]
  },
  {
   "cell_type": "code",
   "execution_count": 83,
   "id": "21145d80-989c-4926-a7dd-57da6e885433",
   "metadata": {},
   "outputs": [
    {
     "name": "stdout",
     "output_type": "stream",
     "text": [
      "Fitting 10 folds for each of 91 candidates, totalling 910 fits\n",
      "Best score 0.8271785268414481\n",
      "Best params: {'C': 1.0, 'kernel': 'rbf'}\n"
     ]
    }
   ],
   "source": [
    "clf = clf.fit(X_train, y_train)\n",
    "print(\"Best score {}\".format(clf.best_score_))\n",
    "print(\"Best params: \" + str(clf.best_params_))\n",
    "y_pred = clf.predict(X_test)\n",
    "pd.DataFrame({'PassengerId': df_test.PassengerId, 'Survived': y_pred}).to_csv('./results/SVM_full_features.csv', index=False)"
   ]
  }
 ],
 "metadata": {
  "kernelspec": {
   "display_name": "Python 3 (ipykernel)",
   "language": "python",
   "name": "python3"
  },
  "language_info": {
   "codemirror_mode": {
    "name": "ipython",
    "version": 3
   },
   "file_extension": ".py",
   "mimetype": "text/x-python",
   "name": "python",
   "nbconvert_exporter": "python",
   "pygments_lexer": "ipython3",
   "version": "3.9.12"
  }
 },
 "nbformat": 4,
 "nbformat_minor": 5
}
